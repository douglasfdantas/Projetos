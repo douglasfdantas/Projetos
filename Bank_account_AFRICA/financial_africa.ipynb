{
 "cells": [
  {
   "cell_type": "markdown",
   "id": "81949e56",
   "metadata": {},
   "source": [
    "# <font color='blue'>Análise de Dados</font>"
   ]
  },
  {
   "cell_type": "markdown",
   "id": "9a18bcd0",
   "metadata": {},
   "source": [
    "### Objetivo: predizer se uma pessoa tem ou não tem uma conta bancária na África (variável resposta \"bank_account\")"
   ]
  },
  {
   "cell_type": "markdown",
   "id": "c488f62e",
   "metadata": {},
   "source": [
    "Link da base de dados: https://zindi.africa/competitions/financial-inclusion-in-africa/data"
   ]
  },
  {
   "cell_type": "markdown",
   "id": "ca1fc3fc",
   "metadata": {},
   "source": [
    "## Análise Exploratória dos Dados"
   ]
  },
  {
   "cell_type": "code",
   "execution_count": 1,
   "id": "cc4b92c4",
   "metadata": {},
   "outputs": [],
   "source": [
    "# Importando os módulos\n",
    "import numpy as np\n",
    "import pandas as pd\n",
    "import matplotlib as mat\n",
    "import matplotlib.pyplot as plt\n",
    "import numpy as np\n",
    "%matplotlib inline"
   ]
  },
  {
   "cell_type": "code",
   "execution_count": 2,
   "id": "fdeb36fa",
   "metadata": {},
   "outputs": [],
   "source": [
    "#Carregando o dataset\n",
    "df = pd.read_csv(\"train.csv\")"
   ]
  },
  {
   "cell_type": "code",
   "execution_count": 3,
   "id": "7cc46a98",
   "metadata": {},
   "outputs": [
    {
     "data": {
      "text/plain": [
       "(23524, 13)"
      ]
     },
     "execution_count": 3,
     "metadata": {},
     "output_type": "execute_result"
    }
   ],
   "source": [
    "#Verificando o formato dos dados\n",
    "df.shape"
   ]
  },
  {
   "cell_type": "code",
   "execution_count": 4,
   "id": "8def8827",
   "metadata": {
    "scrolled": true
   },
   "outputs": [
    {
     "data": {
      "text/html": [
       "<div>\n",
       "<style scoped>\n",
       "    .dataframe tbody tr th:only-of-type {\n",
       "        vertical-align: middle;\n",
       "    }\n",
       "\n",
       "    .dataframe tbody tr th {\n",
       "        vertical-align: top;\n",
       "    }\n",
       "\n",
       "    .dataframe thead th {\n",
       "        text-align: right;\n",
       "    }\n",
       "</style>\n",
       "<table border=\"1\" class=\"dataframe\">\n",
       "  <thead>\n",
       "    <tr style=\"text-align: right;\">\n",
       "      <th></th>\n",
       "      <th>country</th>\n",
       "      <th>year</th>\n",
       "      <th>uniqueid</th>\n",
       "      <th>bank_account</th>\n",
       "      <th>location_type</th>\n",
       "      <th>cellphone_access</th>\n",
       "      <th>household_size</th>\n",
       "      <th>age_of_respondent</th>\n",
       "      <th>gender_of_respondent</th>\n",
       "      <th>relationship_with_head</th>\n",
       "      <th>marital_status</th>\n",
       "      <th>education_level</th>\n",
       "      <th>job_type</th>\n",
       "    </tr>\n",
       "  </thead>\n",
       "  <tbody>\n",
       "    <tr>\n",
       "      <th>0</th>\n",
       "      <td>Kenya</td>\n",
       "      <td>2018</td>\n",
       "      <td>uniqueid_1</td>\n",
       "      <td>Yes</td>\n",
       "      <td>Rural</td>\n",
       "      <td>Yes</td>\n",
       "      <td>3</td>\n",
       "      <td>24</td>\n",
       "      <td>Female</td>\n",
       "      <td>Spouse</td>\n",
       "      <td>Married/Living together</td>\n",
       "      <td>Secondary education</td>\n",
       "      <td>Self employed</td>\n",
       "    </tr>\n",
       "    <tr>\n",
       "      <th>1</th>\n",
       "      <td>Kenya</td>\n",
       "      <td>2018</td>\n",
       "      <td>uniqueid_2</td>\n",
       "      <td>No</td>\n",
       "      <td>Rural</td>\n",
       "      <td>No</td>\n",
       "      <td>5</td>\n",
       "      <td>70</td>\n",
       "      <td>Female</td>\n",
       "      <td>Head of Household</td>\n",
       "      <td>Widowed</td>\n",
       "      <td>No formal education</td>\n",
       "      <td>Government Dependent</td>\n",
       "    </tr>\n",
       "    <tr>\n",
       "      <th>2</th>\n",
       "      <td>Kenya</td>\n",
       "      <td>2018</td>\n",
       "      <td>uniqueid_3</td>\n",
       "      <td>Yes</td>\n",
       "      <td>Urban</td>\n",
       "      <td>Yes</td>\n",
       "      <td>5</td>\n",
       "      <td>26</td>\n",
       "      <td>Male</td>\n",
       "      <td>Other relative</td>\n",
       "      <td>Single/Never Married</td>\n",
       "      <td>Vocational/Specialised training</td>\n",
       "      <td>Self employed</td>\n",
       "    </tr>\n",
       "    <tr>\n",
       "      <th>3</th>\n",
       "      <td>Kenya</td>\n",
       "      <td>2018</td>\n",
       "      <td>uniqueid_4</td>\n",
       "      <td>No</td>\n",
       "      <td>Rural</td>\n",
       "      <td>Yes</td>\n",
       "      <td>5</td>\n",
       "      <td>34</td>\n",
       "      <td>Female</td>\n",
       "      <td>Head of Household</td>\n",
       "      <td>Married/Living together</td>\n",
       "      <td>Primary education</td>\n",
       "      <td>Formally employed Private</td>\n",
       "    </tr>\n",
       "    <tr>\n",
       "      <th>4</th>\n",
       "      <td>Kenya</td>\n",
       "      <td>2018</td>\n",
       "      <td>uniqueid_5</td>\n",
       "      <td>No</td>\n",
       "      <td>Urban</td>\n",
       "      <td>No</td>\n",
       "      <td>8</td>\n",
       "      <td>26</td>\n",
       "      <td>Male</td>\n",
       "      <td>Child</td>\n",
       "      <td>Single/Never Married</td>\n",
       "      <td>Primary education</td>\n",
       "      <td>Informally employed</td>\n",
       "    </tr>\n",
       "  </tbody>\n",
       "</table>\n",
       "</div>"
      ],
      "text/plain": [
       "  country  year    uniqueid bank_account location_type cellphone_access  \\\n",
       "0   Kenya  2018  uniqueid_1          Yes         Rural              Yes   \n",
       "1   Kenya  2018  uniqueid_2           No         Rural               No   \n",
       "2   Kenya  2018  uniqueid_3          Yes         Urban              Yes   \n",
       "3   Kenya  2018  uniqueid_4           No         Rural              Yes   \n",
       "4   Kenya  2018  uniqueid_5           No         Urban               No   \n",
       "\n",
       "   household_size  age_of_respondent gender_of_respondent  \\\n",
       "0               3                 24               Female   \n",
       "1               5                 70               Female   \n",
       "2               5                 26                 Male   \n",
       "3               5                 34               Female   \n",
       "4               8                 26                 Male   \n",
       "\n",
       "  relationship_with_head           marital_status  \\\n",
       "0                 Spouse  Married/Living together   \n",
       "1      Head of Household                  Widowed   \n",
       "2         Other relative     Single/Never Married   \n",
       "3      Head of Household  Married/Living together   \n",
       "4                  Child     Single/Never Married   \n",
       "\n",
       "                   education_level                   job_type  \n",
       "0              Secondary education              Self employed  \n",
       "1              No formal education       Government Dependent  \n",
       "2  Vocational/Specialised training              Self employed  \n",
       "3                Primary education  Formally employed Private  \n",
       "4                Primary education        Informally employed  "
      ]
     },
     "execution_count": 4,
     "metadata": {},
     "output_type": "execute_result"
    }
   ],
   "source": [
    "#Verificando as primeiras linhas do dataset\n",
    "df.head()"
   ]
  },
  {
   "cell_type": "code",
   "execution_count": 5,
   "id": "26c8c850",
   "metadata": {},
   "outputs": [
    {
     "data": {
      "text/plain": [
       "uniqueid_678     4\n",
       "uniqueid_560     4\n",
       "uniqueid_1987    4\n",
       "uniqueid_28      4\n",
       "uniqueid_1613    4\n",
       "                ..\n",
       "uniqueid_7215    1\n",
       "uniqueid_8007    1\n",
       "uniqueid_6823    1\n",
       "uniqueid_7560    1\n",
       "uniqueid_8382    1\n",
       "Name: uniqueid, Length: 8735, dtype: int64"
      ]
     },
     "execution_count": 5,
     "metadata": {},
     "output_type": "execute_result"
    }
   ],
   "source": [
    "#Verificando se um ID aparece mais de uma vez\n",
    "df.uniqueid.value_counts()"
   ]
  },
  {
   "cell_type": "code",
   "execution_count": 6,
   "id": "dfa6b7c5",
   "metadata": {},
   "outputs": [
    {
     "data": {
      "text/html": [
       "<div>\n",
       "<style scoped>\n",
       "    .dataframe tbody tr th:only-of-type {\n",
       "        vertical-align: middle;\n",
       "    }\n",
       "\n",
       "    .dataframe tbody tr th {\n",
       "        vertical-align: top;\n",
       "    }\n",
       "\n",
       "    .dataframe thead th {\n",
       "        text-align: right;\n",
       "    }\n",
       "</style>\n",
       "<table border=\"1\" class=\"dataframe\">\n",
       "  <thead>\n",
       "    <tr style=\"text-align: right;\">\n",
       "      <th></th>\n",
       "      <th>country</th>\n",
       "      <th>year</th>\n",
       "      <th>uniqueid</th>\n",
       "      <th>bank_account</th>\n",
       "      <th>location_type</th>\n",
       "      <th>cellphone_access</th>\n",
       "      <th>household_size</th>\n",
       "      <th>age_of_respondent</th>\n",
       "      <th>gender_of_respondent</th>\n",
       "      <th>relationship_with_head</th>\n",
       "      <th>marital_status</th>\n",
       "      <th>education_level</th>\n",
       "      <th>job_type</th>\n",
       "    </tr>\n",
       "  </thead>\n",
       "  <tbody>\n",
       "    <tr>\n",
       "      <th>1294</th>\n",
       "      <td>Kenya</td>\n",
       "      <td>2018</td>\n",
       "      <td>uniqueid_1295</td>\n",
       "      <td>No</td>\n",
       "      <td>Rural</td>\n",
       "      <td>Yes</td>\n",
       "      <td>7</td>\n",
       "      <td>16</td>\n",
       "      <td>Male</td>\n",
       "      <td>Child</td>\n",
       "      <td>Single/Never Married</td>\n",
       "      <td>Secondary education</td>\n",
       "      <td>Self employed</td>\n",
       "    </tr>\n",
       "    <tr>\n",
       "      <th>7362</th>\n",
       "      <td>Rwanda</td>\n",
       "      <td>2016</td>\n",
       "      <td>uniqueid_1295</td>\n",
       "      <td>No</td>\n",
       "      <td>Rural</td>\n",
       "      <td>Yes</td>\n",
       "      <td>1</td>\n",
       "      <td>37</td>\n",
       "      <td>Male</td>\n",
       "      <td>Head of Household</td>\n",
       "      <td>Divorced/Seperated</td>\n",
       "      <td>Primary education</td>\n",
       "      <td>Farming and Fishing</td>\n",
       "    </tr>\n",
       "    <tr>\n",
       "      <th>16097</th>\n",
       "      <td>Tanzania</td>\n",
       "      <td>2017</td>\n",
       "      <td>uniqueid_1295</td>\n",
       "      <td>No</td>\n",
       "      <td>Urban</td>\n",
       "      <td>Yes</td>\n",
       "      <td>2</td>\n",
       "      <td>37</td>\n",
       "      <td>Female</td>\n",
       "      <td>Spouse</td>\n",
       "      <td>Single/Never Married</td>\n",
       "      <td>Primary education</td>\n",
       "      <td>Remittance Dependent</td>\n",
       "    </tr>\n",
       "    <tr>\n",
       "      <th>22717</th>\n",
       "      <td>Uganda</td>\n",
       "      <td>2018</td>\n",
       "      <td>uniqueid_1295</td>\n",
       "      <td>No</td>\n",
       "      <td>Rural</td>\n",
       "      <td>Yes</td>\n",
       "      <td>6</td>\n",
       "      <td>35</td>\n",
       "      <td>Female</td>\n",
       "      <td>Parent</td>\n",
       "      <td>Divorced/Seperated</td>\n",
       "      <td>Primary education</td>\n",
       "      <td>Self employed</td>\n",
       "    </tr>\n",
       "  </tbody>\n",
       "</table>\n",
       "</div>"
      ],
      "text/plain": [
       "        country  year       uniqueid bank_account location_type  \\\n",
       "1294      Kenya  2018  uniqueid_1295           No         Rural   \n",
       "7362     Rwanda  2016  uniqueid_1295           No         Rural   \n",
       "16097  Tanzania  2017  uniqueid_1295           No         Urban   \n",
       "22717    Uganda  2018  uniqueid_1295           No         Rural   \n",
       "\n",
       "      cellphone_access  household_size  age_of_respondent  \\\n",
       "1294               Yes               7                 16   \n",
       "7362               Yes               1                 37   \n",
       "16097              Yes               2                 37   \n",
       "22717              Yes               6                 35   \n",
       "\n",
       "      gender_of_respondent relationship_with_head        marital_status  \\\n",
       "1294                  Male                  Child  Single/Never Married   \n",
       "7362                  Male      Head of Household    Divorced/Seperated   \n",
       "16097               Female                 Spouse  Single/Never Married   \n",
       "22717               Female                 Parent    Divorced/Seperated   \n",
       "\n",
       "           education_level              job_type  \n",
       "1294   Secondary education         Self employed  \n",
       "7362     Primary education   Farming and Fishing  \n",
       "16097    Primary education  Remittance Dependent  \n",
       "22717    Primary education         Self employed  "
      ]
     },
     "execution_count": 6,
     "metadata": {},
     "output_type": "execute_result"
    }
   ],
   "source": [
    "#Verificando se um ID repetido trata da mesma pessoa\n",
    "#Conclusão: são pessoas diferentes\n",
    "df[df[\"uniqueid\"] == \"uniqueid_1295\"]"
   ]
  },
  {
   "cell_type": "code",
   "execution_count": 7,
   "id": "36f9c314",
   "metadata": {},
   "outputs": [
    {
     "data": {
      "text/html": [
       "<div>\n",
       "<style scoped>\n",
       "    .dataframe tbody tr th:only-of-type {\n",
       "        vertical-align: middle;\n",
       "    }\n",
       "\n",
       "    .dataframe tbody tr th {\n",
       "        vertical-align: top;\n",
       "    }\n",
       "\n",
       "    .dataframe thead th {\n",
       "        text-align: right;\n",
       "    }\n",
       "</style>\n",
       "<table border=\"1\" class=\"dataframe\">\n",
       "  <thead>\n",
       "    <tr style=\"text-align: right;\">\n",
       "      <th></th>\n",
       "      <th>country</th>\n",
       "      <th>year</th>\n",
       "      <th>uniqueid</th>\n",
       "      <th>bank_account</th>\n",
       "      <th>location_type</th>\n",
       "      <th>cellphone_access</th>\n",
       "      <th>household_size</th>\n",
       "      <th>age_of_respondent</th>\n",
       "      <th>gender_of_respondent</th>\n",
       "      <th>relationship_with_head</th>\n",
       "      <th>marital_status</th>\n",
       "      <th>education_level</th>\n",
       "      <th>job_type</th>\n",
       "    </tr>\n",
       "  </thead>\n",
       "  <tbody>\n",
       "    <tr>\n",
       "      <th>0</th>\n",
       "      <td>Kenya</td>\n",
       "      <td>2018</td>\n",
       "      <td>uniqueid_1</td>\n",
       "      <td>Yes</td>\n",
       "      <td>Rural</td>\n",
       "      <td>Yes</td>\n",
       "      <td>3</td>\n",
       "      <td>24</td>\n",
       "      <td>Female</td>\n",
       "      <td>Spouse</td>\n",
       "      <td>Married/Living together</td>\n",
       "      <td>Secondary education</td>\n",
       "      <td>Self employed</td>\n",
       "    </tr>\n",
       "    <tr>\n",
       "      <th>1</th>\n",
       "      <td>Kenya</td>\n",
       "      <td>2018</td>\n",
       "      <td>uniqueid_2</td>\n",
       "      <td>No</td>\n",
       "      <td>Rural</td>\n",
       "      <td>No</td>\n",
       "      <td>5</td>\n",
       "      <td>70</td>\n",
       "      <td>Female</td>\n",
       "      <td>Head of Household</td>\n",
       "      <td>Widowed</td>\n",
       "      <td>No formal education</td>\n",
       "      <td>Government Dependent</td>\n",
       "    </tr>\n",
       "    <tr>\n",
       "      <th>2</th>\n",
       "      <td>Kenya</td>\n",
       "      <td>2018</td>\n",
       "      <td>uniqueid_3</td>\n",
       "      <td>Yes</td>\n",
       "      <td>Urban</td>\n",
       "      <td>Yes</td>\n",
       "      <td>5</td>\n",
       "      <td>26</td>\n",
       "      <td>Male</td>\n",
       "      <td>Other relative</td>\n",
       "      <td>Single/Never Married</td>\n",
       "      <td>Vocational/Specialised training</td>\n",
       "      <td>Self employed</td>\n",
       "    </tr>\n",
       "    <tr>\n",
       "      <th>3</th>\n",
       "      <td>Kenya</td>\n",
       "      <td>2018</td>\n",
       "      <td>uniqueid_4</td>\n",
       "      <td>No</td>\n",
       "      <td>Rural</td>\n",
       "      <td>Yes</td>\n",
       "      <td>5</td>\n",
       "      <td>34</td>\n",
       "      <td>Female</td>\n",
       "      <td>Head of Household</td>\n",
       "      <td>Married/Living together</td>\n",
       "      <td>Primary education</td>\n",
       "      <td>Formally employed Private</td>\n",
       "    </tr>\n",
       "    <tr>\n",
       "      <th>4</th>\n",
       "      <td>Kenya</td>\n",
       "      <td>2018</td>\n",
       "      <td>uniqueid_5</td>\n",
       "      <td>No</td>\n",
       "      <td>Urban</td>\n",
       "      <td>No</td>\n",
       "      <td>8</td>\n",
       "      <td>26</td>\n",
       "      <td>Male</td>\n",
       "      <td>Child</td>\n",
       "      <td>Single/Never Married</td>\n",
       "      <td>Primary education</td>\n",
       "      <td>Informally employed</td>\n",
       "    </tr>\n",
       "    <tr>\n",
       "      <th>...</th>\n",
       "      <td>...</td>\n",
       "      <td>...</td>\n",
       "      <td>...</td>\n",
       "      <td>...</td>\n",
       "      <td>...</td>\n",
       "      <td>...</td>\n",
       "      <td>...</td>\n",
       "      <td>...</td>\n",
       "      <td>...</td>\n",
       "      <td>...</td>\n",
       "      <td>...</td>\n",
       "      <td>...</td>\n",
       "      <td>...</td>\n",
       "    </tr>\n",
       "    <tr>\n",
       "      <th>23519</th>\n",
       "      <td>Uganda</td>\n",
       "      <td>2018</td>\n",
       "      <td>uniqueid_2113</td>\n",
       "      <td>No</td>\n",
       "      <td>Rural</td>\n",
       "      <td>Yes</td>\n",
       "      <td>4</td>\n",
       "      <td>48</td>\n",
       "      <td>Female</td>\n",
       "      <td>Head of Household</td>\n",
       "      <td>Divorced/Seperated</td>\n",
       "      <td>No formal education</td>\n",
       "      <td>Other Income</td>\n",
       "    </tr>\n",
       "    <tr>\n",
       "      <th>23520</th>\n",
       "      <td>Uganda</td>\n",
       "      <td>2018</td>\n",
       "      <td>uniqueid_2114</td>\n",
       "      <td>No</td>\n",
       "      <td>Rural</td>\n",
       "      <td>Yes</td>\n",
       "      <td>2</td>\n",
       "      <td>27</td>\n",
       "      <td>Female</td>\n",
       "      <td>Head of Household</td>\n",
       "      <td>Single/Never Married</td>\n",
       "      <td>Secondary education</td>\n",
       "      <td>Other Income</td>\n",
       "    </tr>\n",
       "    <tr>\n",
       "      <th>23521</th>\n",
       "      <td>Uganda</td>\n",
       "      <td>2018</td>\n",
       "      <td>uniqueid_2115</td>\n",
       "      <td>No</td>\n",
       "      <td>Rural</td>\n",
       "      <td>Yes</td>\n",
       "      <td>5</td>\n",
       "      <td>27</td>\n",
       "      <td>Female</td>\n",
       "      <td>Parent</td>\n",
       "      <td>Widowed</td>\n",
       "      <td>Primary education</td>\n",
       "      <td>Other Income</td>\n",
       "    </tr>\n",
       "    <tr>\n",
       "      <th>23522</th>\n",
       "      <td>Uganda</td>\n",
       "      <td>2018</td>\n",
       "      <td>uniqueid_2116</td>\n",
       "      <td>No</td>\n",
       "      <td>Urban</td>\n",
       "      <td>Yes</td>\n",
       "      <td>7</td>\n",
       "      <td>30</td>\n",
       "      <td>Female</td>\n",
       "      <td>Parent</td>\n",
       "      <td>Divorced/Seperated</td>\n",
       "      <td>Secondary education</td>\n",
       "      <td>Self employed</td>\n",
       "    </tr>\n",
       "    <tr>\n",
       "      <th>23523</th>\n",
       "      <td>Uganda</td>\n",
       "      <td>2018</td>\n",
       "      <td>uniqueid_2117</td>\n",
       "      <td>No</td>\n",
       "      <td>Rural</td>\n",
       "      <td>Yes</td>\n",
       "      <td>10</td>\n",
       "      <td>20</td>\n",
       "      <td>Male</td>\n",
       "      <td>Child</td>\n",
       "      <td>Single/Never Married</td>\n",
       "      <td>Secondary education</td>\n",
       "      <td>No Income</td>\n",
       "    </tr>\n",
       "  </tbody>\n",
       "</table>\n",
       "<p>23524 rows × 13 columns</p>\n",
       "</div>"
      ],
      "text/plain": [
       "      country  year       uniqueid bank_account location_type  \\\n",
       "0       Kenya  2018     uniqueid_1          Yes         Rural   \n",
       "1       Kenya  2018     uniqueid_2           No         Rural   \n",
       "2       Kenya  2018     uniqueid_3          Yes         Urban   \n",
       "3       Kenya  2018     uniqueid_4           No         Rural   \n",
       "4       Kenya  2018     uniqueid_5           No         Urban   \n",
       "...       ...   ...            ...          ...           ...   \n",
       "23519  Uganda  2018  uniqueid_2113           No         Rural   \n",
       "23520  Uganda  2018  uniqueid_2114           No         Rural   \n",
       "23521  Uganda  2018  uniqueid_2115           No         Rural   \n",
       "23522  Uganda  2018  uniqueid_2116           No         Urban   \n",
       "23523  Uganda  2018  uniqueid_2117           No         Rural   \n",
       "\n",
       "      cellphone_access  household_size  age_of_respondent  \\\n",
       "0                  Yes               3                 24   \n",
       "1                   No               5                 70   \n",
       "2                  Yes               5                 26   \n",
       "3                  Yes               5                 34   \n",
       "4                   No               8                 26   \n",
       "...                ...             ...                ...   \n",
       "23519              Yes               4                 48   \n",
       "23520              Yes               2                 27   \n",
       "23521              Yes               5                 27   \n",
       "23522              Yes               7                 30   \n",
       "23523              Yes              10                 20   \n",
       "\n",
       "      gender_of_respondent relationship_with_head           marital_status  \\\n",
       "0                   Female                 Spouse  Married/Living together   \n",
       "1                   Female      Head of Household                  Widowed   \n",
       "2                     Male         Other relative     Single/Never Married   \n",
       "3                   Female      Head of Household  Married/Living together   \n",
       "4                     Male                  Child     Single/Never Married   \n",
       "...                    ...                    ...                      ...   \n",
       "23519               Female      Head of Household       Divorced/Seperated   \n",
       "23520               Female      Head of Household     Single/Never Married   \n",
       "23521               Female                 Parent                  Widowed   \n",
       "23522               Female                 Parent       Divorced/Seperated   \n",
       "23523                 Male                  Child     Single/Never Married   \n",
       "\n",
       "                       education_level                   job_type  \n",
       "0                  Secondary education              Self employed  \n",
       "1                  No formal education       Government Dependent  \n",
       "2      Vocational/Specialised training              Self employed  \n",
       "3                    Primary education  Formally employed Private  \n",
       "4                    Primary education        Informally employed  \n",
       "...                                ...                        ...  \n",
       "23519              No formal education               Other Income  \n",
       "23520              Secondary education               Other Income  \n",
       "23521                Primary education               Other Income  \n",
       "23522              Secondary education              Self employed  \n",
       "23523              Secondary education                  No Income  \n",
       "\n",
       "[23524 rows x 13 columns]"
      ]
     },
     "execution_count": 7,
     "metadata": {},
     "output_type": "execute_result"
    }
   ],
   "source": [
    "#Excluindo registros duplicados\n",
    "#Não há\n",
    "df.drop_duplicates()"
   ]
  },
  {
   "cell_type": "code",
   "execution_count": 8,
   "id": "5e356618",
   "metadata": {},
   "outputs": [],
   "source": [
    "#Excluindo coluna ID irrelevante\n",
    "df= df.drop(columns=[\"uniqueid\"])"
   ]
  },
  {
   "cell_type": "code",
   "execution_count": 9,
   "id": "bf2fe89e",
   "metadata": {},
   "outputs": [
    {
     "data": {
      "text/html": [
       "<div>\n",
       "<style scoped>\n",
       "    .dataframe tbody tr th:only-of-type {\n",
       "        vertical-align: middle;\n",
       "    }\n",
       "\n",
       "    .dataframe tbody tr th {\n",
       "        vertical-align: top;\n",
       "    }\n",
       "\n",
       "    .dataframe thead th {\n",
       "        text-align: right;\n",
       "    }\n",
       "</style>\n",
       "<table border=\"1\" class=\"dataframe\">\n",
       "  <thead>\n",
       "    <tr style=\"text-align: right;\">\n",
       "      <th></th>\n",
       "      <th>year</th>\n",
       "      <th>household_size</th>\n",
       "      <th>age_of_respondent</th>\n",
       "    </tr>\n",
       "  </thead>\n",
       "  <tbody>\n",
       "    <tr>\n",
       "      <th>count</th>\n",
       "      <td>23524.000000</td>\n",
       "      <td>23524.000000</td>\n",
       "      <td>23524.000000</td>\n",
       "    </tr>\n",
       "    <tr>\n",
       "      <th>mean</th>\n",
       "      <td>2016.975939</td>\n",
       "      <td>3.797483</td>\n",
       "      <td>38.805220</td>\n",
       "    </tr>\n",
       "    <tr>\n",
       "      <th>std</th>\n",
       "      <td>0.847371</td>\n",
       "      <td>2.227613</td>\n",
       "      <td>16.520569</td>\n",
       "    </tr>\n",
       "    <tr>\n",
       "      <th>min</th>\n",
       "      <td>2016.000000</td>\n",
       "      <td>1.000000</td>\n",
       "      <td>16.000000</td>\n",
       "    </tr>\n",
       "    <tr>\n",
       "      <th>25%</th>\n",
       "      <td>2016.000000</td>\n",
       "      <td>2.000000</td>\n",
       "      <td>26.000000</td>\n",
       "    </tr>\n",
       "    <tr>\n",
       "      <th>50%</th>\n",
       "      <td>2017.000000</td>\n",
       "      <td>3.000000</td>\n",
       "      <td>35.000000</td>\n",
       "    </tr>\n",
       "    <tr>\n",
       "      <th>75%</th>\n",
       "      <td>2018.000000</td>\n",
       "      <td>5.000000</td>\n",
       "      <td>49.000000</td>\n",
       "    </tr>\n",
       "    <tr>\n",
       "      <th>max</th>\n",
       "      <td>2018.000000</td>\n",
       "      <td>21.000000</td>\n",
       "      <td>100.000000</td>\n",
       "    </tr>\n",
       "  </tbody>\n",
       "</table>\n",
       "</div>"
      ],
      "text/plain": [
       "               year  household_size  age_of_respondent\n",
       "count  23524.000000    23524.000000       23524.000000\n",
       "mean    2016.975939        3.797483          38.805220\n",
       "std        0.847371        2.227613          16.520569\n",
       "min     2016.000000        1.000000          16.000000\n",
       "25%     2016.000000        2.000000          26.000000\n",
       "50%     2017.000000        3.000000          35.000000\n",
       "75%     2018.000000        5.000000          49.000000\n",
       "max     2018.000000       21.000000         100.000000"
      ]
     },
     "execution_count": 9,
     "metadata": {},
     "output_type": "execute_result"
    }
   ],
   "source": [
    "#Resumo estatístico do dataset\n",
    "df.describe()"
   ]
  },
  {
   "cell_type": "code",
   "execution_count": 10,
   "id": "d90a1eab",
   "metadata": {},
   "outputs": [
    {
     "data": {
      "text/plain": [
       "False"
      ]
     },
     "execution_count": 10,
     "metadata": {},
     "output_type": "execute_result"
    }
   ],
   "source": [
    "#Verificando se existem valores nulos\n",
    "df.isnull().values.any()"
   ]
  },
  {
   "cell_type": "code",
   "execution_count": 11,
   "id": "77829f9a",
   "metadata": {},
   "outputs": [
    {
     "data": {
      "text/plain": [
       "False"
      ]
     },
     "execution_count": 11,
     "metadata": {},
     "output_type": "execute_result"
    }
   ],
   "source": [
    "df.isna().values.any()"
   ]
  },
  {
   "cell_type": "code",
   "execution_count": 12,
   "id": "4238c874",
   "metadata": {},
   "outputs": [
    {
     "data": {
      "text/plain": [
       "country                   0\n",
       "year                      0\n",
       "bank_account              0\n",
       "location_type             0\n",
       "cellphone_access          0\n",
       "household_size            0\n",
       "age_of_respondent         0\n",
       "gender_of_respondent      0\n",
       "relationship_with_head    0\n",
       "marital_status            0\n",
       "education_level           0\n",
       "job_type                  0\n",
       "dtype: int64"
      ]
     },
     "execution_count": 12,
     "metadata": {},
     "output_type": "execute_result"
    }
   ],
   "source": [
    "#Resumo de dados nulos\n",
    "df.isnull().sum()"
   ]
  },
  {
   "cell_type": "markdown",
   "id": "ec445207",
   "metadata": {},
   "source": [
    "### Distribuição ao longo dos anos"
   ]
  },
  {
   "cell_type": "code",
   "execution_count": 13,
   "id": "600892e9",
   "metadata": {},
   "outputs": [
    {
     "data": {
      "text/plain": [
       "2016    8735\n",
       "2018    8169\n",
       "2017    6620\n",
       "Name: year, dtype: int64"
      ]
     },
     "execution_count": 13,
     "metadata": {},
     "output_type": "execute_result"
    }
   ],
   "source": [
    "df.year.value_counts()"
   ]
  },
  {
   "cell_type": "code",
   "execution_count": 14,
   "id": "a384033e",
   "metadata": {},
   "outputs": [
    {
     "data": {
      "text/plain": [
       "Rwanda    8735\n",
       "Name: country, dtype: int64"
      ]
     },
     "execution_count": 14,
     "metadata": {},
     "output_type": "execute_result"
    }
   ],
   "source": [
    "df[df['year']==2016].country.value_counts()"
   ]
  },
  {
   "cell_type": "code",
   "execution_count": 15,
   "id": "46defbf1",
   "metadata": {},
   "outputs": [
    {
     "data": {
      "text/plain": [
       "Tanzania    6620\n",
       "Name: country, dtype: int64"
      ]
     },
     "execution_count": 15,
     "metadata": {},
     "output_type": "execute_result"
    }
   ],
   "source": [
    "df[df['year']==2017].country.value_counts()"
   ]
  },
  {
   "cell_type": "code",
   "execution_count": 16,
   "id": "2edab483",
   "metadata": {},
   "outputs": [
    {
     "data": {
      "text/plain": [
       "Kenya     6068\n",
       "Uganda    2101\n",
       "Name: country, dtype: int64"
      ]
     },
     "execution_count": 16,
     "metadata": {},
     "output_type": "execute_result"
    }
   ],
   "source": [
    "df[df['year']==2018].country.value_counts()"
   ]
  },
  {
   "cell_type": "markdown",
   "id": "603e1243",
   "metadata": {},
   "source": [
    "### Distribuição por País"
   ]
  },
  {
   "cell_type": "code",
   "execution_count": 17,
   "id": "67b7c3e9",
   "metadata": {},
   "outputs": [],
   "source": [
    "# O país que mais possui pessoas com conta bancária é o Kenya\n",
    "# Sabendo a população de cada país, é possível saber o quanto\n",
    "# isso representa em %"
   ]
  },
  {
   "cell_type": "code",
   "execution_count": 18,
   "id": "363a9e13",
   "metadata": {},
   "outputs": [
    {
     "data": {
      "text/plain": [
       "<BarContainer object of 4 artists>"
      ]
     },
     "execution_count": 18,
     "metadata": {},
     "output_type": "execute_result"
    },
    {
     "data": {
      "image/png": "[encoded data removed]",
      "text/plain": [
       "<Figure size 432x288 with 1 Axes>"
      ]
     },
     "metadata": {
      "needs_background": "light"
     },
     "output_type": "display_data"
    }
   ],
   "source": [
    "df1=df[df[\"bank_account\"]==\"Yes\"]\n",
    "plt.bar(df1.country.value_counts().index, df1.country.value_counts())"
   ]
  },
  {
   "cell_type": "markdown",
   "id": "6b19814f",
   "metadata": {},
   "source": [
    "### Distribuição de Idade e de Gênero"
   ]
  },
  {
   "cell_type": "code",
   "execution_count": 19,
   "id": "85408d58",
   "metadata": {},
   "outputs": [],
   "source": [
    "# A maioria das pessoas que possuem conta bancária são do gênero masculino e\n",
    "# estão na faixa de idade entre 25 e 40 anos, sendo 30 anos a idade mais frequente."
   ]
  },
  {
   "cell_type": "code",
   "execution_count": 20,
   "id": "26b71555",
   "metadata": {
    "scrolled": true
   },
   "outputs": [
    {
     "data": {
      "image/png": "[encoded data removed]",
      "text/plain": [
       "<Figure size 1008x288 with 2 Axes>"
      ]
     },
     "metadata": {
      "needs_background": "light"
     },
     "output_type": "display_data"
    }
   ],
   "source": [
    "fig1 = plt.figure(figsize = (14, 4))\n",
    "df2=df[df[\"bank_account\"]==\"Yes\"]\n",
    "\n",
    "ax1 = fig1.add_subplot(1,2,1)\n",
    "ax1.hist(df2.age_of_respondent, bins=50)\n",
    "ax1.set_title(\"Distribuição de Idade\")\n",
    "ax1.set_xlabel(\"Idade\")\n",
    "ax1.set_ylabel(\"Nº Pessoas com Conta\")\n",
    "\n",
    "labels = df2.gender_of_respondent.value_counts().index\n",
    "ax2 = fig1.add_subplot(1,2,2)\n",
    "ax2.pie(df2.gender_of_respondent.value_counts())\n",
    "ax2.set_title(\"Distribuição de Gênero\")\n",
    "ax2.legend(labels)\n",
    "\n",
    "plt.show()"
   ]
  },
  {
   "cell_type": "code",
   "execution_count": 21,
   "id": "71be9196",
   "metadata": {},
   "outputs": [
    {
     "data": {
      "text/plain": [
       "0    30\n",
       "dtype: int64"
      ]
     },
     "execution_count": 21,
     "metadata": {},
     "output_type": "execute_result"
    }
   ],
   "source": [
    "df[df[\"bank_account\"]==\"Yes\"].age_of_respondent.mode()"
   ]
  },
  {
   "cell_type": "markdown",
   "id": "f6a9daa0",
   "metadata": {},
   "source": [
    "### Distribuição por Tipo de Trabalho"
   ]
  },
  {
   "cell_type": "code",
   "execution_count": 22,
   "id": "b1174332",
   "metadata": {},
   "outputs": [
    {
     "data": {
      "text/plain": [
       "<BarContainer object of 10 artists>"
      ]
     },
     "execution_count": 22,
     "metadata": {},
     "output_type": "execute_result"
    },
    {
     "data": {
      "image/png": "[encoded data removed]",
      "text/plain": [
       "<Figure size 432x288 with 1 Axes>"
      ]
     },
     "metadata": {
      "needs_background": "light"
     },
     "output_type": "display_data"
    }
   ],
   "source": [
    "df3=df[df[\"bank_account\"]==\"Yes\"]\n",
    "plt.title(\"Distribuição por Tipo de Trabalho\")\n",
    "plt.xlabel(\"Nº de Pessoas\")\n",
    "plt.barh(df3.job_type.value_counts().index, df3.job_type.value_counts())"
   ]
  },
  {
   "cell_type": "markdown",
   "id": "3e376c97",
   "metadata": {},
   "source": [
    "### Distribuição por Escolaridade"
   ]
  },
  {
   "cell_type": "code",
   "execution_count": 23,
   "id": "c407d6e7",
   "metadata": {},
   "outputs": [
    {
     "data": {
      "text/plain": [
       "<BarContainer object of 6 artists>"
      ]
     },
     "execution_count": 23,
     "metadata": {},
     "output_type": "execute_result"
    },
    {
     "data": {
      "image/png": "[encoded data removed]",
      "text/plain": [
       "<Figure size 432x288 with 1 Axes>"
      ]
     },
     "metadata": {
      "needs_background": "light"
     },
     "output_type": "display_data"
    }
   ],
   "source": [
    "plt.title(\"Distribuição por Escolaridade\")\n",
    "plt.xlabel(\"Nº de Pessoas\")\n",
    "plt.barh(df3.education_level.value_counts().index, df3.education_level.value_counts())"
   ]
  },
  {
   "cell_type": "code",
   "execution_count": 24,
   "id": "55a62e7d",
   "metadata": {
    "scrolled": true
   },
   "outputs": [],
   "source": [
    "df = df.drop(\"year\",1)"
   ]
  },
  {
   "cell_type": "code",
   "execution_count": 25,
   "id": "65618882",
   "metadata": {
    "scrolled": true
   },
   "outputs": [
    {
     "name": "stdout",
     "output_type": "stream",
     "text": [
      "# Linhas no dataframe 23524\n",
      "# Linhas missing country: 0\n",
      "# Linhas missing bank_account: 0\n",
      "# Linhas missing location_type: 0\n",
      "# Linhas missing cellphone_access: 0\n",
      "# Linhas missing household_size: 0\n",
      "# Linhas missing age_of_respondent: 0\n",
      "# Linhas missing gender_of_respondent: 0\n",
      "# Linhas missing relationship_with_head: 0\n",
      "# Linhas missing marital_status: 0\n",
      "# Linhas missing education_level: 0\n",
      "# Linhas missing job_type: 0\n"
     ]
    }
   ],
   "source": [
    "print(\"# Linhas no dataframe {0}\".format(len(df)))\n",
    "print(\"# Linhas missing country: {0}\".format(len(df.loc[df['country'] == 0])))\n",
    "print(\"# Linhas missing bank_account: {0}\".format(len(df.loc[df['bank_account'] == 0])))\n",
    "print(\"# Linhas missing location_type: {0}\".format(len(df.loc[df['location_type'] == 0])))\n",
    "print(\"# Linhas missing cellphone_access: {0}\".format(len(df.loc[df['cellphone_access'] == 0])))\n",
    "print(\"# Linhas missing household_size: {0}\".format(len(df.loc[df['household_size'] == 0])))\n",
    "print(\"# Linhas missing age_of_respondent: {0}\".format(len(df.loc[df['age_of_respondent'] == 0])))\n",
    "print(\"# Linhas missing gender_of_respondent: {0}\".format(len(df.loc[df['gender_of_respondent'] == 0])))\n",
    "print(\"# Linhas missing relationship_with_head: {0}\".format(len(df.loc[df['relationship_with_head'] == 0])))\n",
    "print(\"# Linhas missing marital_status: {0}\".format(len(df.loc[df['marital_status'] == 0])))\n",
    "print(\"# Linhas missing education_level: {0}\".format(len(df.loc[df['education_level'] == 0])))\n",
    "print(\"# Linhas missing job_type: {0}\".format(len(df.loc[df['job_type'] == 0])))"
   ]
  },
  {
   "cell_type": "markdown",
   "id": "0b02d3d3",
   "metadata": {},
   "source": [
    "### Preparando tabela para aplicar o algoritmo de ML"
   ]
  },
  {
   "cell_type": "code",
   "execution_count": 26,
   "id": "d5d0ab7c",
   "metadata": {},
   "outputs": [],
   "source": [
    "# Definindo as classes para colunas com valores binários\n",
    "bank_account_map = {\"Yes\" : 1, \"No\" : 0}\n",
    "location_type_map = {\"Rural\" : 1, \"Urban\" : 0}\n",
    "cellphone_access_map = {\"Yes\" : 1, \"No\" : 0}\n",
    "gender_of_respondent_map = {\"Female\" : 1, \"Male\" : 0}"
   ]
  },
  {
   "cell_type": "code",
   "execution_count": 27,
   "id": "fe4874a8",
   "metadata": {},
   "outputs": [],
   "source": [
    "# Aplicando o mapeamento ao dataset\n",
    "df['bank_account'] = df['bank_account'].map(bank_account_map)\n",
    "df['location_type'] = df['location_type'].map(location_type_map)\n",
    "df['cellphone_access'] = df['cellphone_access'].map(cellphone_access_map)\n",
    "df['gender_of_respondent'] = df['gender_of_respondent'].map(gender_of_respondent_map)"
   ]
  },
  {
   "cell_type": "code",
   "execution_count": 28,
   "id": "d7b56823",
   "metadata": {
    "scrolled": true
   },
   "outputs": [
    {
     "data": {
      "text/html": [
       "<div>\n",
       "<style scoped>\n",
       "    .dataframe tbody tr th:only-of-type {\n",
       "        vertical-align: middle;\n",
       "    }\n",
       "\n",
       "    .dataframe tbody tr th {\n",
       "        vertical-align: top;\n",
       "    }\n",
       "\n",
       "    .dataframe thead th {\n",
       "        text-align: right;\n",
       "    }\n",
       "</style>\n",
       "<table border=\"1\" class=\"dataframe\">\n",
       "  <thead>\n",
       "    <tr style=\"text-align: right;\">\n",
       "      <th></th>\n",
       "      <th>country</th>\n",
       "      <th>bank_account</th>\n",
       "      <th>location_type</th>\n",
       "      <th>cellphone_access</th>\n",
       "      <th>household_size</th>\n",
       "      <th>age_of_respondent</th>\n",
       "      <th>gender_of_respondent</th>\n",
       "      <th>relationship_with_head</th>\n",
       "      <th>marital_status</th>\n",
       "      <th>education_level</th>\n",
       "      <th>job_type</th>\n",
       "    </tr>\n",
       "  </thead>\n",
       "  <tbody>\n",
       "    <tr>\n",
       "      <th>0</th>\n",
       "      <td>Kenya</td>\n",
       "      <td>1</td>\n",
       "      <td>1</td>\n",
       "      <td>1</td>\n",
       "      <td>3</td>\n",
       "      <td>24</td>\n",
       "      <td>1</td>\n",
       "      <td>Spouse</td>\n",
       "      <td>Married/Living together</td>\n",
       "      <td>Secondary education</td>\n",
       "      <td>Self employed</td>\n",
       "    </tr>\n",
       "    <tr>\n",
       "      <th>1</th>\n",
       "      <td>Kenya</td>\n",
       "      <td>0</td>\n",
       "      <td>1</td>\n",
       "      <td>0</td>\n",
       "      <td>5</td>\n",
       "      <td>70</td>\n",
       "      <td>1</td>\n",
       "      <td>Head of Household</td>\n",
       "      <td>Widowed</td>\n",
       "      <td>No formal education</td>\n",
       "      <td>Government Dependent</td>\n",
       "    </tr>\n",
       "    <tr>\n",
       "      <th>2</th>\n",
       "      <td>Kenya</td>\n",
       "      <td>1</td>\n",
       "      <td>0</td>\n",
       "      <td>1</td>\n",
       "      <td>5</td>\n",
       "      <td>26</td>\n",
       "      <td>0</td>\n",
       "      <td>Other relative</td>\n",
       "      <td>Single/Never Married</td>\n",
       "      <td>Vocational/Specialised training</td>\n",
       "      <td>Self employed</td>\n",
       "    </tr>\n",
       "    <tr>\n",
       "      <th>3</th>\n",
       "      <td>Kenya</td>\n",
       "      <td>0</td>\n",
       "      <td>1</td>\n",
       "      <td>1</td>\n",
       "      <td>5</td>\n",
       "      <td>34</td>\n",
       "      <td>1</td>\n",
       "      <td>Head of Household</td>\n",
       "      <td>Married/Living together</td>\n",
       "      <td>Primary education</td>\n",
       "      <td>Formally employed Private</td>\n",
       "    </tr>\n",
       "    <tr>\n",
       "      <th>4</th>\n",
       "      <td>Kenya</td>\n",
       "      <td>0</td>\n",
       "      <td>0</td>\n",
       "      <td>0</td>\n",
       "      <td>8</td>\n",
       "      <td>26</td>\n",
       "      <td>0</td>\n",
       "      <td>Child</td>\n",
       "      <td>Single/Never Married</td>\n",
       "      <td>Primary education</td>\n",
       "      <td>Informally employed</td>\n",
       "    </tr>\n",
       "    <tr>\n",
       "      <th>...</th>\n",
       "      <td>...</td>\n",
       "      <td>...</td>\n",
       "      <td>...</td>\n",
       "      <td>...</td>\n",
       "      <td>...</td>\n",
       "      <td>...</td>\n",
       "      <td>...</td>\n",
       "      <td>...</td>\n",
       "      <td>...</td>\n",
       "      <td>...</td>\n",
       "      <td>...</td>\n",
       "    </tr>\n",
       "    <tr>\n",
       "      <th>23519</th>\n",
       "      <td>Uganda</td>\n",
       "      <td>0</td>\n",
       "      <td>1</td>\n",
       "      <td>1</td>\n",
       "      <td>4</td>\n",
       "      <td>48</td>\n",
       "      <td>1</td>\n",
       "      <td>Head of Household</td>\n",
       "      <td>Divorced/Seperated</td>\n",
       "      <td>No formal education</td>\n",
       "      <td>Other Income</td>\n",
       "    </tr>\n",
       "    <tr>\n",
       "      <th>23520</th>\n",
       "      <td>Uganda</td>\n",
       "      <td>0</td>\n",
       "      <td>1</td>\n",
       "      <td>1</td>\n",
       "      <td>2</td>\n",
       "      <td>27</td>\n",
       "      <td>1</td>\n",
       "      <td>Head of Household</td>\n",
       "      <td>Single/Never Married</td>\n",
       "      <td>Secondary education</td>\n",
       "      <td>Other Income</td>\n",
       "    </tr>\n",
       "    <tr>\n",
       "      <th>23521</th>\n",
       "      <td>Uganda</td>\n",
       "      <td>0</td>\n",
       "      <td>1</td>\n",
       "      <td>1</td>\n",
       "      <td>5</td>\n",
       "      <td>27</td>\n",
       "      <td>1</td>\n",
       "      <td>Parent</td>\n",
       "      <td>Widowed</td>\n",
       "      <td>Primary education</td>\n",
       "      <td>Other Income</td>\n",
       "    </tr>\n",
       "    <tr>\n",
       "      <th>23522</th>\n",
       "      <td>Uganda</td>\n",
       "      <td>0</td>\n",
       "      <td>0</td>\n",
       "      <td>1</td>\n",
       "      <td>7</td>\n",
       "      <td>30</td>\n",
       "      <td>1</td>\n",
       "      <td>Parent</td>\n",
       "      <td>Divorced/Seperated</td>\n",
       "      <td>Secondary education</td>\n",
       "      <td>Self employed</td>\n",
       "    </tr>\n",
       "    <tr>\n",
       "      <th>23523</th>\n",
       "      <td>Uganda</td>\n",
       "      <td>0</td>\n",
       "      <td>1</td>\n",
       "      <td>1</td>\n",
       "      <td>10</td>\n",
       "      <td>20</td>\n",
       "      <td>0</td>\n",
       "      <td>Child</td>\n",
       "      <td>Single/Never Married</td>\n",
       "      <td>Secondary education</td>\n",
       "      <td>No Income</td>\n",
       "    </tr>\n",
       "  </tbody>\n",
       "</table>\n",
       "<p>23524 rows × 11 columns</p>\n",
       "</div>"
      ],
      "text/plain": [
       "      country  bank_account  location_type  cellphone_access  household_size  \\\n",
       "0       Kenya             1              1                 1               3   \n",
       "1       Kenya             0              1                 0               5   \n",
       "2       Kenya             1              0                 1               5   \n",
       "3       Kenya             0              1                 1               5   \n",
       "4       Kenya             0              0                 0               8   \n",
       "...       ...           ...            ...               ...             ...   \n",
       "23519  Uganda             0              1                 1               4   \n",
       "23520  Uganda             0              1                 1               2   \n",
       "23521  Uganda             0              1                 1               5   \n",
       "23522  Uganda             0              0                 1               7   \n",
       "23523  Uganda             0              1                 1              10   \n",
       "\n",
       "       age_of_respondent  gender_of_respondent relationship_with_head  \\\n",
       "0                     24                     1                 Spouse   \n",
       "1                     70                     1      Head of Household   \n",
       "2                     26                     0         Other relative   \n",
       "3                     34                     1      Head of Household   \n",
       "4                     26                     0                  Child   \n",
       "...                  ...                   ...                    ...   \n",
       "23519                 48                     1      Head of Household   \n",
       "23520                 27                     1      Head of Household   \n",
       "23521                 27                     1                 Parent   \n",
       "23522                 30                     1                 Parent   \n",
       "23523                 20                     0                  Child   \n",
       "\n",
       "                marital_status                  education_level  \\\n",
       "0      Married/Living together              Secondary education   \n",
       "1                      Widowed              No formal education   \n",
       "2         Single/Never Married  Vocational/Specialised training   \n",
       "3      Married/Living together                Primary education   \n",
       "4         Single/Never Married                Primary education   \n",
       "...                        ...                              ...   \n",
       "23519       Divorced/Seperated              No formal education   \n",
       "23520     Single/Never Married              Secondary education   \n",
       "23521                  Widowed                Primary education   \n",
       "23522       Divorced/Seperated              Secondary education   \n",
       "23523     Single/Never Married              Secondary education   \n",
       "\n",
       "                        job_type  \n",
       "0                  Self employed  \n",
       "1           Government Dependent  \n",
       "2                  Self employed  \n",
       "3      Formally employed Private  \n",
       "4            Informally employed  \n",
       "...                          ...  \n",
       "23519               Other Income  \n",
       "23520               Other Income  \n",
       "23521               Other Income  \n",
       "23522              Self employed  \n",
       "23523                  No Income  \n",
       "\n",
       "[23524 rows x 11 columns]"
      ]
     },
     "execution_count": 28,
     "metadata": {},
     "output_type": "execute_result"
    }
   ],
   "source": [
    "df"
   ]
  },
  {
   "cell_type": "markdown",
   "id": "c74cb852",
   "metadata": {},
   "source": [
    "#### Fazendo um paralelo para construir um gráfico para identificar a correlação entre as variáveis"
   ]
  },
  {
   "cell_type": "code",
   "execution_count": 29,
   "id": "b4ef2f65",
   "metadata": {},
   "outputs": [],
   "source": [
    "df4 = df"
   ]
  },
  {
   "cell_type": "code",
   "execution_count": 30,
   "id": "4c0f9736",
   "metadata": {},
   "outputs": [],
   "source": [
    "country_map = {'Rwanda':0, 'Tanzania':1, 'Kenya':2, 'Uganda':3}\n",
    "relationship_with_head_map = {'Head of Household':0, 'Spouse':1, 'Child':2, 'Parent':3, \\\n",
    "                              'Other relative':4, 'Other non-relatives':5}\n",
    "marital_status_map = {'Married/Living together':0, 'Single/Never Married':1, 'Widowed':2, \\\n",
    "                      'Divorced/Seperated':3, 'Dont know':4}\n",
    "education_level_map = {'Primary education':0, 'No formal education':1, 'Secondary education':2, \\\n",
    "                       'Tertiary education':3, 'Vocational/Specialised training':4, 'Other/Dont know/RTA':5}\n",
    "job_type_map = {'Self employed':0, 'Informally employed':1, 'Farming and Fishing':2, 'Remittance Dependent':3, \\\n",
    "                'Other Income':4, 'Formally employed Private':5, 'No Income':6, 'Formally employed Government':7, \\\n",
    "                'Government Dependent':8, 'Dont Know/Refuse to answer':9}"
   ]
  },
  {
   "cell_type": "code",
   "execution_count": 31,
   "id": "57810976",
   "metadata": {},
   "outputs": [],
   "source": [
    "df4['country'] = df4['country'].map(country_map)\n",
    "df4['relationship_with_head'] = df['relationship_with_head'].map(relationship_with_head_map)\n",
    "df4['marital_status'] = df4['marital_status'].map(marital_status_map)\n",
    "df4['education_level'] = df4['education_level'].map(education_level_map)\n",
    "df4['job_type'] = df4['job_type'].map(job_type_map)"
   ]
  },
  {
   "cell_type": "code",
   "execution_count": 32,
   "id": "79f1a458",
   "metadata": {},
   "outputs": [
    {
     "data": {
      "text/html": [
       "<div>\n",
       "<style scoped>\n",
       "    .dataframe tbody tr th:only-of-type {\n",
       "        vertical-align: middle;\n",
       "    }\n",
       "\n",
       "    .dataframe tbody tr th {\n",
       "        vertical-align: top;\n",
       "    }\n",
       "\n",
       "    .dataframe thead th {\n",
       "        text-align: right;\n",
       "    }\n",
       "</style>\n",
       "<table border=\"1\" class=\"dataframe\">\n",
       "  <thead>\n",
       "    <tr style=\"text-align: right;\">\n",
       "      <th></th>\n",
       "      <th>country</th>\n",
       "      <th>bank_account</th>\n",
       "      <th>location_type</th>\n",
       "      <th>cellphone_access</th>\n",
       "      <th>household_size</th>\n",
       "      <th>age_of_respondent</th>\n",
       "      <th>gender_of_respondent</th>\n",
       "      <th>relationship_with_head</th>\n",
       "      <th>marital_status</th>\n",
       "      <th>education_level</th>\n",
       "      <th>job_type</th>\n",
       "    </tr>\n",
       "  </thead>\n",
       "  <tbody>\n",
       "    <tr>\n",
       "      <th>0</th>\n",
       "      <td>2</td>\n",
       "      <td>1</td>\n",
       "      <td>1</td>\n",
       "      <td>1</td>\n",
       "      <td>3</td>\n",
       "      <td>24</td>\n",
       "      <td>1</td>\n",
       "      <td>1</td>\n",
       "      <td>0</td>\n",
       "      <td>2</td>\n",
       "      <td>0</td>\n",
       "    </tr>\n",
       "    <tr>\n",
       "      <th>1</th>\n",
       "      <td>2</td>\n",
       "      <td>0</td>\n",
       "      <td>1</td>\n",
       "      <td>0</td>\n",
       "      <td>5</td>\n",
       "      <td>70</td>\n",
       "      <td>1</td>\n",
       "      <td>0</td>\n",
       "      <td>2</td>\n",
       "      <td>1</td>\n",
       "      <td>8</td>\n",
       "    </tr>\n",
       "    <tr>\n",
       "      <th>2</th>\n",
       "      <td>2</td>\n",
       "      <td>1</td>\n",
       "      <td>0</td>\n",
       "      <td>1</td>\n",
       "      <td>5</td>\n",
       "      <td>26</td>\n",
       "      <td>0</td>\n",
       "      <td>4</td>\n",
       "      <td>1</td>\n",
       "      <td>4</td>\n",
       "      <td>0</td>\n",
       "    </tr>\n",
       "    <tr>\n",
       "      <th>3</th>\n",
       "      <td>2</td>\n",
       "      <td>0</td>\n",
       "      <td>1</td>\n",
       "      <td>1</td>\n",
       "      <td>5</td>\n",
       "      <td>34</td>\n",
       "      <td>1</td>\n",
       "      <td>0</td>\n",
       "      <td>0</td>\n",
       "      <td>0</td>\n",
       "      <td>5</td>\n",
       "    </tr>\n",
       "    <tr>\n",
       "      <th>4</th>\n",
       "      <td>2</td>\n",
       "      <td>0</td>\n",
       "      <td>0</td>\n",
       "      <td>0</td>\n",
       "      <td>8</td>\n",
       "      <td>26</td>\n",
       "      <td>0</td>\n",
       "      <td>2</td>\n",
       "      <td>1</td>\n",
       "      <td>0</td>\n",
       "      <td>1</td>\n",
       "    </tr>\n",
       "    <tr>\n",
       "      <th>...</th>\n",
       "      <td>...</td>\n",
       "      <td>...</td>\n",
       "      <td>...</td>\n",
       "      <td>...</td>\n",
       "      <td>...</td>\n",
       "      <td>...</td>\n",
       "      <td>...</td>\n",
       "      <td>...</td>\n",
       "      <td>...</td>\n",
       "      <td>...</td>\n",
       "      <td>...</td>\n",
       "    </tr>\n",
       "    <tr>\n",
       "      <th>23519</th>\n",
       "      <td>3</td>\n",
       "      <td>0</td>\n",
       "      <td>1</td>\n",
       "      <td>1</td>\n",
       "      <td>4</td>\n",
       "      <td>48</td>\n",
       "      <td>1</td>\n",
       "      <td>0</td>\n",
       "      <td>3</td>\n",
       "      <td>1</td>\n",
       "      <td>4</td>\n",
       "    </tr>\n",
       "    <tr>\n",
       "      <th>23520</th>\n",
       "      <td>3</td>\n",
       "      <td>0</td>\n",
       "      <td>1</td>\n",
       "      <td>1</td>\n",
       "      <td>2</td>\n",
       "      <td>27</td>\n",
       "      <td>1</td>\n",
       "      <td>0</td>\n",
       "      <td>1</td>\n",
       "      <td>2</td>\n",
       "      <td>4</td>\n",
       "    </tr>\n",
       "    <tr>\n",
       "      <th>23521</th>\n",
       "      <td>3</td>\n",
       "      <td>0</td>\n",
       "      <td>1</td>\n",
       "      <td>1</td>\n",
       "      <td>5</td>\n",
       "      <td>27</td>\n",
       "      <td>1</td>\n",
       "      <td>3</td>\n",
       "      <td>2</td>\n",
       "      <td>0</td>\n",
       "      <td>4</td>\n",
       "    </tr>\n",
       "    <tr>\n",
       "      <th>23522</th>\n",
       "      <td>3</td>\n",
       "      <td>0</td>\n",
       "      <td>0</td>\n",
       "      <td>1</td>\n",
       "      <td>7</td>\n",
       "      <td>30</td>\n",
       "      <td>1</td>\n",
       "      <td>3</td>\n",
       "      <td>3</td>\n",
       "      <td>2</td>\n",
       "      <td>0</td>\n",
       "    </tr>\n",
       "    <tr>\n",
       "      <th>23523</th>\n",
       "      <td>3</td>\n",
       "      <td>0</td>\n",
       "      <td>1</td>\n",
       "      <td>1</td>\n",
       "      <td>10</td>\n",
       "      <td>20</td>\n",
       "      <td>0</td>\n",
       "      <td>2</td>\n",
       "      <td>1</td>\n",
       "      <td>2</td>\n",
       "      <td>6</td>\n",
       "    </tr>\n",
       "  </tbody>\n",
       "</table>\n",
       "<p>23524 rows × 11 columns</p>\n",
       "</div>"
      ],
      "text/plain": [
       "       country  bank_account  location_type  cellphone_access  household_size  \\\n",
       "0            2             1              1                 1               3   \n",
       "1            2             0              1                 0               5   \n",
       "2            2             1              0                 1               5   \n",
       "3            2             0              1                 1               5   \n",
       "4            2             0              0                 0               8   \n",
       "...        ...           ...            ...               ...             ...   \n",
       "23519        3             0              1                 1               4   \n",
       "23520        3             0              1                 1               2   \n",
       "23521        3             0              1                 1               5   \n",
       "23522        3             0              0                 1               7   \n",
       "23523        3             0              1                 1              10   \n",
       "\n",
       "       age_of_respondent  gender_of_respondent  relationship_with_head  \\\n",
       "0                     24                     1                       1   \n",
       "1                     70                     1                       0   \n",
       "2                     26                     0                       4   \n",
       "3                     34                     1                       0   \n",
       "4                     26                     0                       2   \n",
       "...                  ...                   ...                     ...   \n",
       "23519                 48                     1                       0   \n",
       "23520                 27                     1                       0   \n",
       "23521                 27                     1                       3   \n",
       "23522                 30                     1                       3   \n",
       "23523                 20                     0                       2   \n",
       "\n",
       "       marital_status  education_level  job_type  \n",
       "0                   0                2         0  \n",
       "1                   2                1         8  \n",
       "2                   1                4         0  \n",
       "3                   0                0         5  \n",
       "4                   1                0         1  \n",
       "...               ...              ...       ...  \n",
       "23519               3                1         4  \n",
       "23520               1                2         4  \n",
       "23521               2                0         4  \n",
       "23522               3                2         0  \n",
       "23523               1                2         6  \n",
       "\n",
       "[23524 rows x 11 columns]"
      ]
     },
     "execution_count": 32,
     "metadata": {},
     "output_type": "execute_result"
    }
   ],
   "source": [
    "df4"
   ]
  },
  {
   "cell_type": "code",
   "execution_count": 33,
   "id": "ae7585d0",
   "metadata": {},
   "outputs": [],
   "source": [
    "# Identificando a correlação entre as variáveis\n",
    "# Correlação não implica causalidade\n",
    "def plot_corr(df, size=df.columns.shape[0]):\n",
    "    corr = df.corr()    \n",
    "    fig, ax = plt.subplots(figsize = (size+3, size+3))\n",
    "    ax.matshow(corr)  \n",
    "    plt.xticks(range(len(corr.columns)), corr.columns) \n",
    "    plt.yticks(range(len(corr.columns)), corr.columns) "
   ]
  },
  {
   "cell_type": "code",
   "execution_count": 34,
   "id": "c58cde92",
   "metadata": {},
   "outputs": [
    {
     "data": {
      "image/png": "[encoded data removed]",
      "text/plain": [
       "<Figure size 1008x1008 with 1 Axes>"
      ]
     },
     "metadata": {
      "needs_background": "light"
     },
     "output_type": "display_data"
    }
   ],
   "source": [
    "# Criando o gráfico\n",
    "plot_corr(df4)"
   ]
  },
  {
   "cell_type": "code",
   "execution_count": 35,
   "id": "e939e9c3",
   "metadata": {
    "scrolled": true
   },
   "outputs": [
    {
     "data": {
      "text/html": [
       "<div>\n",
       "<style scoped>\n",
       "    .dataframe tbody tr th:only-of-type {\n",
       "        vertical-align: middle;\n",
       "    }\n",
       "\n",
       "    .dataframe tbody tr th {\n",
       "        vertical-align: top;\n",
       "    }\n",
       "\n",
       "    .dataframe thead th {\n",
       "        text-align: right;\n",
       "    }\n",
       "</style>\n",
       "<table border=\"1\" class=\"dataframe\">\n",
       "  <thead>\n",
       "    <tr style=\"text-align: right;\">\n",
       "      <th></th>\n",
       "      <th>country</th>\n",
       "      <th>bank_account</th>\n",
       "      <th>location_type</th>\n",
       "      <th>cellphone_access</th>\n",
       "      <th>household_size</th>\n",
       "      <th>age_of_respondent</th>\n",
       "      <th>gender_of_respondent</th>\n",
       "      <th>relationship_with_head</th>\n",
       "      <th>marital_status</th>\n",
       "      <th>education_level</th>\n",
       "      <th>job_type</th>\n",
       "    </tr>\n",
       "  </thead>\n",
       "  <tbody>\n",
       "    <tr>\n",
       "      <th>country</th>\n",
       "      <td>1.000000</td>\n",
       "      <td>0.081871</td>\n",
       "      <td>-0.163536</td>\n",
       "      <td>-0.066160</td>\n",
       "      <td>0.003502</td>\n",
       "      <td>-0.034770</td>\n",
       "      <td>0.012426</td>\n",
       "      <td>0.014817</td>\n",
       "      <td>-0.022041</td>\n",
       "      <td>0.137535</td>\n",
       "      <td>0.082846</td>\n",
       "    </tr>\n",
       "    <tr>\n",
       "      <th>bank_account</th>\n",
       "      <td>0.081871</td>\n",
       "      <td>1.000000</td>\n",
       "      <td>-0.087288</td>\n",
       "      <td>0.209669</td>\n",
       "      <td>-0.028326</td>\n",
       "      <td>0.019429</td>\n",
       "      <td>-0.117234</td>\n",
       "      <td>-0.099572</td>\n",
       "      <td>-0.077746</td>\n",
       "      <td>0.332406</td>\n",
       "      <td>0.176312</td>\n",
       "    </tr>\n",
       "    <tr>\n",
       "      <th>location_type</th>\n",
       "      <td>-0.163536</td>\n",
       "      <td>-0.087288</td>\n",
       "      <td>1.000000</td>\n",
       "      <td>0.085238</td>\n",
       "      <td>0.257284</td>\n",
       "      <td>0.047373</td>\n",
       "      <td>0.012924</td>\n",
       "      <td>-0.026338</td>\n",
       "      <td>-0.121217</td>\n",
       "      <td>-0.081686</td>\n",
       "      <td>0.066587</td>\n",
       "    </tr>\n",
       "    <tr>\n",
       "      <th>cellphone_access</th>\n",
       "      <td>-0.066160</td>\n",
       "      <td>0.209669</td>\n",
       "      <td>0.085238</td>\n",
       "      <td>1.000000</td>\n",
       "      <td>0.091360</td>\n",
       "      <td>-0.103611</td>\n",
       "      <td>-0.102370</td>\n",
       "      <td>-0.052329</td>\n",
       "      <td>-0.141779</td>\n",
       "      <td>0.132742</td>\n",
       "      <td>0.018562</td>\n",
       "    </tr>\n",
       "    <tr>\n",
       "      <th>household_size</th>\n",
       "      <td>0.003502</td>\n",
       "      <td>-0.028326</td>\n",
       "      <td>0.257284</td>\n",
       "      <td>0.091360</td>\n",
       "      <td>1.000000</td>\n",
       "      <td>-0.129729</td>\n",
       "      <td>-0.014576</td>\n",
       "      <td>0.233319</td>\n",
       "      <td>-0.278927</td>\n",
       "      <td>-0.002143</td>\n",
       "      <td>0.044270</td>\n",
       "    </tr>\n",
       "    <tr>\n",
       "      <th>age_of_respondent</th>\n",
       "      <td>-0.034770</td>\n",
       "      <td>0.019429</td>\n",
       "      <td>0.047373</td>\n",
       "      <td>-0.103611</td>\n",
       "      <td>-0.129729</td>\n",
       "      <td>1.000000</td>\n",
       "      <td>-0.012745</td>\n",
       "      <td>-0.443077</td>\n",
       "      <td>0.055865</td>\n",
       "      <td>-0.090844</td>\n",
       "      <td>0.019273</td>\n",
       "    </tr>\n",
       "    <tr>\n",
       "      <th>gender_of_respondent</th>\n",
       "      <td>0.012426</td>\n",
       "      <td>-0.117234</td>\n",
       "      <td>0.012924</td>\n",
       "      <td>-0.102370</td>\n",
       "      <td>-0.014576</td>\n",
       "      <td>-0.012745</td>\n",
       "      <td>1.000000</td>\n",
       "      <td>0.170209</td>\n",
       "      <td>0.099878</td>\n",
       "      <td>-0.039524</td>\n",
       "      <td>0.056657</td>\n",
       "    </tr>\n",
       "    <tr>\n",
       "      <th>relationship_with_head</th>\n",
       "      <td>0.014817</td>\n",
       "      <td>-0.099572</td>\n",
       "      <td>-0.026338</td>\n",
       "      <td>-0.052329</td>\n",
       "      <td>0.233319</td>\n",
       "      <td>-0.443077</td>\n",
       "      <td>0.170209</td>\n",
       "      <td>1.000000</td>\n",
       "      <td>0.138335</td>\n",
       "      <td>0.090597</td>\n",
       "      <td>0.088279</td>\n",
       "    </tr>\n",
       "    <tr>\n",
       "      <th>marital_status</th>\n",
       "      <td>-0.022041</td>\n",
       "      <td>-0.077746</td>\n",
       "      <td>-0.121217</td>\n",
       "      <td>-0.141779</td>\n",
       "      <td>-0.278927</td>\n",
       "      <td>0.055865</td>\n",
       "      <td>0.099878</td>\n",
       "      <td>0.138335</td>\n",
       "      <td>1.000000</td>\n",
       "      <td>0.037095</td>\n",
       "      <td>0.015526</td>\n",
       "    </tr>\n",
       "    <tr>\n",
       "      <th>education_level</th>\n",
       "      <td>0.137535</td>\n",
       "      <td>0.332406</td>\n",
       "      <td>-0.081686</td>\n",
       "      <td>0.132742</td>\n",
       "      <td>-0.002143</td>\n",
       "      <td>-0.090844</td>\n",
       "      <td>-0.039524</td>\n",
       "      <td>0.090597</td>\n",
       "      <td>0.037095</td>\n",
       "      <td>1.000000</td>\n",
       "      <td>0.229844</td>\n",
       "    </tr>\n",
       "    <tr>\n",
       "      <th>job_type</th>\n",
       "      <td>0.082846</td>\n",
       "      <td>0.176312</td>\n",
       "      <td>0.066587</td>\n",
       "      <td>0.018562</td>\n",
       "      <td>0.044270</td>\n",
       "      <td>0.019273</td>\n",
       "      <td>0.056657</td>\n",
       "      <td>0.088279</td>\n",
       "      <td>0.015526</td>\n",
       "      <td>0.229844</td>\n",
       "      <td>1.000000</td>\n",
       "    </tr>\n",
       "  </tbody>\n",
       "</table>\n",
       "</div>"
      ],
      "text/plain": [
       "                         country  bank_account  location_type  \\\n",
       "country                 1.000000      0.081871      -0.163536   \n",
       "bank_account            0.081871      1.000000      -0.087288   \n",
       "location_type          -0.163536     -0.087288       1.000000   \n",
       "cellphone_access       -0.066160      0.209669       0.085238   \n",
       "household_size          0.003502     -0.028326       0.257284   \n",
       "age_of_respondent      -0.034770      0.019429       0.047373   \n",
       "gender_of_respondent    0.012426     -0.117234       0.012924   \n",
       "relationship_with_head  0.014817     -0.099572      -0.026338   \n",
       "marital_status         -0.022041     -0.077746      -0.121217   \n",
       "education_level         0.137535      0.332406      -0.081686   \n",
       "job_type                0.082846      0.176312       0.066587   \n",
       "\n",
       "                        cellphone_access  household_size  age_of_respondent  \\\n",
       "country                        -0.066160        0.003502          -0.034770   \n",
       "bank_account                    0.209669       -0.028326           0.019429   \n",
       "location_type                   0.085238        0.257284           0.047373   \n",
       "cellphone_access                1.000000        0.091360          -0.103611   \n",
       "household_size                  0.091360        1.000000          -0.129729   \n",
       "age_of_respondent              -0.103611       -0.129729           1.000000   \n",
       "gender_of_respondent           -0.102370       -0.014576          -0.012745   \n",
       "relationship_with_head         -0.052329        0.233319          -0.443077   \n",
       "marital_status                 -0.141779       -0.278927           0.055865   \n",
       "education_level                 0.132742       -0.002143          -0.090844   \n",
       "job_type                        0.018562        0.044270           0.019273   \n",
       "\n",
       "                        gender_of_respondent  relationship_with_head  \\\n",
       "country                             0.012426                0.014817   \n",
       "bank_account                       -0.117234               -0.099572   \n",
       "location_type                       0.012924               -0.026338   \n",
       "cellphone_access                   -0.102370               -0.052329   \n",
       "household_size                     -0.014576                0.233319   \n",
       "age_of_respondent                  -0.012745               -0.443077   \n",
       "gender_of_respondent                1.000000                0.170209   \n",
       "relationship_with_head              0.170209                1.000000   \n",
       "marital_status                      0.099878                0.138335   \n",
       "education_level                    -0.039524                0.090597   \n",
       "job_type                            0.056657                0.088279   \n",
       "\n",
       "                        marital_status  education_level  job_type  \n",
       "country                      -0.022041         0.137535  0.082846  \n",
       "bank_account                 -0.077746         0.332406  0.176312  \n",
       "location_type                -0.121217        -0.081686  0.066587  \n",
       "cellphone_access             -0.141779         0.132742  0.018562  \n",
       "household_size               -0.278927        -0.002143  0.044270  \n",
       "age_of_respondent             0.055865        -0.090844  0.019273  \n",
       "gender_of_respondent          0.099878        -0.039524  0.056657  \n",
       "relationship_with_head        0.138335         0.090597  0.088279  \n",
       "marital_status                1.000000         0.037095  0.015526  \n",
       "education_level               0.037095         1.000000  0.229844  \n",
       "job_type                      0.015526         0.229844  1.000000  "
      ]
     },
     "execution_count": 35,
     "metadata": {},
     "output_type": "execute_result"
    }
   ],
   "source": [
    "# Visualizando a correlação em tabela\n",
    "# Coeficiente de correlação: \n",
    "# +1  = forte correlação positiva\n",
    "# 0   = não há correlação\n",
    "# -1  = forte correlação negativa\n",
    "df4.corr()"
   ]
  },
  {
   "cell_type": "markdown",
   "id": "6e103914",
   "metadata": {},
   "source": [
    "#### Voltando à preparação da tabela para aplicar o algoritmo de ML"
   ]
  },
  {
   "cell_type": "code",
   "execution_count": 36,
   "id": "8256b59e",
   "metadata": {},
   "outputs": [],
   "source": [
    "df=pd.get_dummies(data = df, columns = ['country','relationship_with_head', 'marital_status','education_level', 'job_type'])"
   ]
  },
  {
   "cell_type": "code",
   "execution_count": 37,
   "id": "e68e59ce",
   "metadata": {
    "scrolled": false
   },
   "outputs": [
    {
     "data": {
      "text/html": [
       "<div>\n",
       "<style scoped>\n",
       "    .dataframe tbody tr th:only-of-type {\n",
       "        vertical-align: middle;\n",
       "    }\n",
       "\n",
       "    .dataframe tbody tr th {\n",
       "        vertical-align: top;\n",
       "    }\n",
       "\n",
       "    .dataframe thead th {\n",
       "        text-align: right;\n",
       "    }\n",
       "</style>\n",
       "<table border=\"1\" class=\"dataframe\">\n",
       "  <thead>\n",
       "    <tr style=\"text-align: right;\">\n",
       "      <th></th>\n",
       "      <th>bank_account</th>\n",
       "      <th>location_type</th>\n",
       "      <th>cellphone_access</th>\n",
       "      <th>household_size</th>\n",
       "      <th>age_of_respondent</th>\n",
       "      <th>gender_of_respondent</th>\n",
       "      <th>country_0</th>\n",
       "      <th>country_1</th>\n",
       "      <th>country_2</th>\n",
       "      <th>country_3</th>\n",
       "      <th>...</th>\n",
       "      <th>job_type_0</th>\n",
       "      <th>job_type_1</th>\n",
       "      <th>job_type_2</th>\n",
       "      <th>job_type_3</th>\n",
       "      <th>job_type_4</th>\n",
       "      <th>job_type_5</th>\n",
       "      <th>job_type_6</th>\n",
       "      <th>job_type_7</th>\n",
       "      <th>job_type_8</th>\n",
       "      <th>job_type_9</th>\n",
       "    </tr>\n",
       "  </thead>\n",
       "  <tbody>\n",
       "    <tr>\n",
       "      <th>0</th>\n",
       "      <td>1</td>\n",
       "      <td>1</td>\n",
       "      <td>1</td>\n",
       "      <td>3</td>\n",
       "      <td>24</td>\n",
       "      <td>1</td>\n",
       "      <td>0</td>\n",
       "      <td>0</td>\n",
       "      <td>1</td>\n",
       "      <td>0</td>\n",
       "      <td>...</td>\n",
       "      <td>1</td>\n",
       "      <td>0</td>\n",
       "      <td>0</td>\n",
       "      <td>0</td>\n",
       "      <td>0</td>\n",
       "      <td>0</td>\n",
       "      <td>0</td>\n",
       "      <td>0</td>\n",
       "      <td>0</td>\n",
       "      <td>0</td>\n",
       "    </tr>\n",
       "    <tr>\n",
       "      <th>1</th>\n",
       "      <td>0</td>\n",
       "      <td>1</td>\n",
       "      <td>0</td>\n",
       "      <td>5</td>\n",
       "      <td>70</td>\n",
       "      <td>1</td>\n",
       "      <td>0</td>\n",
       "      <td>0</td>\n",
       "      <td>1</td>\n",
       "      <td>0</td>\n",
       "      <td>...</td>\n",
       "      <td>0</td>\n",
       "      <td>0</td>\n",
       "      <td>0</td>\n",
       "      <td>0</td>\n",
       "      <td>0</td>\n",
       "      <td>0</td>\n",
       "      <td>0</td>\n",
       "      <td>0</td>\n",
       "      <td>1</td>\n",
       "      <td>0</td>\n",
       "    </tr>\n",
       "    <tr>\n",
       "      <th>2</th>\n",
       "      <td>1</td>\n",
       "      <td>0</td>\n",
       "      <td>1</td>\n",
       "      <td>5</td>\n",
       "      <td>26</td>\n",
       "      <td>0</td>\n",
       "      <td>0</td>\n",
       "      <td>0</td>\n",
       "      <td>1</td>\n",
       "      <td>0</td>\n",
       "      <td>...</td>\n",
       "      <td>1</td>\n",
       "      <td>0</td>\n",
       "      <td>0</td>\n",
       "      <td>0</td>\n",
       "      <td>0</td>\n",
       "      <td>0</td>\n",
       "      <td>0</td>\n",
       "      <td>0</td>\n",
       "      <td>0</td>\n",
       "      <td>0</td>\n",
       "    </tr>\n",
       "    <tr>\n",
       "      <th>3</th>\n",
       "      <td>0</td>\n",
       "      <td>1</td>\n",
       "      <td>1</td>\n",
       "      <td>5</td>\n",
       "      <td>34</td>\n",
       "      <td>1</td>\n",
       "      <td>0</td>\n",
       "      <td>0</td>\n",
       "      <td>1</td>\n",
       "      <td>0</td>\n",
       "      <td>...</td>\n",
       "      <td>0</td>\n",
       "      <td>0</td>\n",
       "      <td>0</td>\n",
       "      <td>0</td>\n",
       "      <td>0</td>\n",
       "      <td>1</td>\n",
       "      <td>0</td>\n",
       "      <td>0</td>\n",
       "      <td>0</td>\n",
       "      <td>0</td>\n",
       "    </tr>\n",
       "    <tr>\n",
       "      <th>4</th>\n",
       "      <td>0</td>\n",
       "      <td>0</td>\n",
       "      <td>0</td>\n",
       "      <td>8</td>\n",
       "      <td>26</td>\n",
       "      <td>0</td>\n",
       "      <td>0</td>\n",
       "      <td>0</td>\n",
       "      <td>1</td>\n",
       "      <td>0</td>\n",
       "      <td>...</td>\n",
       "      <td>0</td>\n",
       "      <td>1</td>\n",
       "      <td>0</td>\n",
       "      <td>0</td>\n",
       "      <td>0</td>\n",
       "      <td>0</td>\n",
       "      <td>0</td>\n",
       "      <td>0</td>\n",
       "      <td>0</td>\n",
       "      <td>0</td>\n",
       "    </tr>\n",
       "    <tr>\n",
       "      <th>...</th>\n",
       "      <td>...</td>\n",
       "      <td>...</td>\n",
       "      <td>...</td>\n",
       "      <td>...</td>\n",
       "      <td>...</td>\n",
       "      <td>...</td>\n",
       "      <td>...</td>\n",
       "      <td>...</td>\n",
       "      <td>...</td>\n",
       "      <td>...</td>\n",
       "      <td>...</td>\n",
       "      <td>...</td>\n",
       "      <td>...</td>\n",
       "      <td>...</td>\n",
       "      <td>...</td>\n",
       "      <td>...</td>\n",
       "      <td>...</td>\n",
       "      <td>...</td>\n",
       "      <td>...</td>\n",
       "      <td>...</td>\n",
       "      <td>...</td>\n",
       "    </tr>\n",
       "    <tr>\n",
       "      <th>23519</th>\n",
       "      <td>0</td>\n",
       "      <td>1</td>\n",
       "      <td>1</td>\n",
       "      <td>4</td>\n",
       "      <td>48</td>\n",
       "      <td>1</td>\n",
       "      <td>0</td>\n",
       "      <td>0</td>\n",
       "      <td>0</td>\n",
       "      <td>1</td>\n",
       "      <td>...</td>\n",
       "      <td>0</td>\n",
       "      <td>0</td>\n",
       "      <td>0</td>\n",
       "      <td>0</td>\n",
       "      <td>1</td>\n",
       "      <td>0</td>\n",
       "      <td>0</td>\n",
       "      <td>0</td>\n",
       "      <td>0</td>\n",
       "      <td>0</td>\n",
       "    </tr>\n",
       "    <tr>\n",
       "      <th>23520</th>\n",
       "      <td>0</td>\n",
       "      <td>1</td>\n",
       "      <td>1</td>\n",
       "      <td>2</td>\n",
       "      <td>27</td>\n",
       "      <td>1</td>\n",
       "      <td>0</td>\n",
       "      <td>0</td>\n",
       "      <td>0</td>\n",
       "      <td>1</td>\n",
       "      <td>...</td>\n",
       "      <td>0</td>\n",
       "      <td>0</td>\n",
       "      <td>0</td>\n",
       "      <td>0</td>\n",
       "      <td>1</td>\n",
       "      <td>0</td>\n",
       "      <td>0</td>\n",
       "      <td>0</td>\n",
       "      <td>0</td>\n",
       "      <td>0</td>\n",
       "    </tr>\n",
       "    <tr>\n",
       "      <th>23521</th>\n",
       "      <td>0</td>\n",
       "      <td>1</td>\n",
       "      <td>1</td>\n",
       "      <td>5</td>\n",
       "      <td>27</td>\n",
       "      <td>1</td>\n",
       "      <td>0</td>\n",
       "      <td>0</td>\n",
       "      <td>0</td>\n",
       "      <td>1</td>\n",
       "      <td>...</td>\n",
       "      <td>0</td>\n",
       "      <td>0</td>\n",
       "      <td>0</td>\n",
       "      <td>0</td>\n",
       "      <td>1</td>\n",
       "      <td>0</td>\n",
       "      <td>0</td>\n",
       "      <td>0</td>\n",
       "      <td>0</td>\n",
       "      <td>0</td>\n",
       "    </tr>\n",
       "    <tr>\n",
       "      <th>23522</th>\n",
       "      <td>0</td>\n",
       "      <td>0</td>\n",
       "      <td>1</td>\n",
       "      <td>7</td>\n",
       "      <td>30</td>\n",
       "      <td>1</td>\n",
       "      <td>0</td>\n",
       "      <td>0</td>\n",
       "      <td>0</td>\n",
       "      <td>1</td>\n",
       "      <td>...</td>\n",
       "      <td>1</td>\n",
       "      <td>0</td>\n",
       "      <td>0</td>\n",
       "      <td>0</td>\n",
       "      <td>0</td>\n",
       "      <td>0</td>\n",
       "      <td>0</td>\n",
       "      <td>0</td>\n",
       "      <td>0</td>\n",
       "      <td>0</td>\n",
       "    </tr>\n",
       "    <tr>\n",
       "      <th>23523</th>\n",
       "      <td>0</td>\n",
       "      <td>1</td>\n",
       "      <td>1</td>\n",
       "      <td>10</td>\n",
       "      <td>20</td>\n",
       "      <td>0</td>\n",
       "      <td>0</td>\n",
       "      <td>0</td>\n",
       "      <td>0</td>\n",
       "      <td>1</td>\n",
       "      <td>...</td>\n",
       "      <td>0</td>\n",
       "      <td>0</td>\n",
       "      <td>0</td>\n",
       "      <td>0</td>\n",
       "      <td>0</td>\n",
       "      <td>0</td>\n",
       "      <td>1</td>\n",
       "      <td>0</td>\n",
       "      <td>0</td>\n",
       "      <td>0</td>\n",
       "    </tr>\n",
       "  </tbody>\n",
       "</table>\n",
       "<p>23524 rows × 37 columns</p>\n",
       "</div>"
      ],
      "text/plain": [
       "       bank_account  location_type  cellphone_access  household_size  \\\n",
       "0                 1              1                 1               3   \n",
       "1                 0              1                 0               5   \n",
       "2                 1              0                 1               5   \n",
       "3                 0              1                 1               5   \n",
       "4                 0              0                 0               8   \n",
       "...             ...            ...               ...             ...   \n",
       "23519             0              1                 1               4   \n",
       "23520             0              1                 1               2   \n",
       "23521             0              1                 1               5   \n",
       "23522             0              0                 1               7   \n",
       "23523             0              1                 1              10   \n",
       "\n",
       "       age_of_respondent  gender_of_respondent  country_0  country_1  \\\n",
       "0                     24                     1          0          0   \n",
       "1                     70                     1          0          0   \n",
       "2                     26                     0          0          0   \n",
       "3                     34                     1          0          0   \n",
       "4                     26                     0          0          0   \n",
       "...                  ...                   ...        ...        ...   \n",
       "23519                 48                     1          0          0   \n",
       "23520                 27                     1          0          0   \n",
       "23521                 27                     1          0          0   \n",
       "23522                 30                     1          0          0   \n",
       "23523                 20                     0          0          0   \n",
       "\n",
       "       country_2  country_3  ...  job_type_0  job_type_1  job_type_2  \\\n",
       "0              1          0  ...           1           0           0   \n",
       "1              1          0  ...           0           0           0   \n",
       "2              1          0  ...           1           0           0   \n",
       "3              1          0  ...           0           0           0   \n",
       "4              1          0  ...           0           1           0   \n",
       "...          ...        ...  ...         ...         ...         ...   \n",
       "23519          0          1  ...           0           0           0   \n",
       "23520          0          1  ...           0           0           0   \n",
       "23521          0          1  ...           0           0           0   \n",
       "23522          0          1  ...           1           0           0   \n",
       "23523          0          1  ...           0           0           0   \n",
       "\n",
       "       job_type_3  job_type_4  job_type_5  job_type_6  job_type_7  job_type_8  \\\n",
       "0               0           0           0           0           0           0   \n",
       "1               0           0           0           0           0           1   \n",
       "2               0           0           0           0           0           0   \n",
       "3               0           0           1           0           0           0   \n",
       "4               0           0           0           0           0           0   \n",
       "...           ...         ...         ...         ...         ...         ...   \n",
       "23519           0           1           0           0           0           0   \n",
       "23520           0           1           0           0           0           0   \n",
       "23521           0           1           0           0           0           0   \n",
       "23522           0           0           0           0           0           0   \n",
       "23523           0           0           0           1           0           0   \n",
       "\n",
       "       job_type_9  \n",
       "0               0  \n",
       "1               0  \n",
       "2               0  \n",
       "3               0  \n",
       "4               0  \n",
       "...           ...  \n",
       "23519           0  \n",
       "23520           0  \n",
       "23521           0  \n",
       "23522           0  \n",
       "23523           0  \n",
       "\n",
       "[23524 rows x 37 columns]"
      ]
     },
     "execution_count": 37,
     "metadata": {},
     "output_type": "execute_result"
    }
   ],
   "source": [
    "df"
   ]
  },
  {
   "cell_type": "code",
   "execution_count": 38,
   "id": "dbb79c45",
   "metadata": {},
   "outputs": [
    {
     "name": "stdout",
     "output_type": "stream",
     "text": [
      "Número de Casos Verdadeiros: 3312 (14.08%)\n",
      "Número de Casos Falsos     : 20212 (85.92%)\n"
     ]
    }
   ],
   "source": [
    "# Verificando como os dados estão distribuídos\n",
    "num_true = len(df.loc[df['bank_account'] == 1])\n",
    "num_false = len(df.loc[df['bank_account'] == 0])\n",
    "print(\"Número de Casos Verdadeiros: {0} ({1:2.2f}%)\".format(num_true, (num_true/ (num_true + num_false)) * 100))\n",
    "print(\"Número de Casos Falsos     : {0} ({1:2.2f}%)\".format(num_false, (num_false/ (num_true + num_false)) * 100))"
   ]
  },
  {
   "cell_type": "markdown",
   "id": "c8e7f516",
   "metadata": {},
   "source": [
    "## Spliting\n",
    "\n",
    "70% para dados de treino e 30% para dados de teste"
   ]
  },
  {
   "cell_type": "code",
   "execution_count": 39,
   "id": "83911481",
   "metadata": {},
   "outputs": [],
   "source": [
    "import sklearn as sk"
   ]
  },
  {
   "cell_type": "code",
   "execution_count": 40,
   "id": "32137161",
   "metadata": {},
   "outputs": [],
   "source": [
    "from sklearn.model_selection import train_test_split"
   ]
  },
  {
   "cell_type": "code",
   "execution_count": 41,
   "id": "deb020a7",
   "metadata": {},
   "outputs": [
    {
     "data": {
      "text/plain": [
       "Index(['location_type', 'cellphone_access', 'household_size',\n",
       "       'age_of_respondent', 'gender_of_respondent', 'country_0', 'country_1',\n",
       "       'country_2', 'country_3', 'relationship_with_head_0',\n",
       "       'relationship_with_head_1', 'relationship_with_head_2',\n",
       "       'relationship_with_head_3', 'relationship_with_head_4',\n",
       "       'relationship_with_head_5', 'marital_status_0', 'marital_status_1',\n",
       "       'marital_status_2', 'marital_status_3', 'marital_status_4',\n",
       "       'education_level_0', 'education_level_1', 'education_level_2',\n",
       "       'education_level_3', 'education_level_4', 'education_level_5',\n",
       "       'job_type_0', 'job_type_1', 'job_type_2', 'job_type_3', 'job_type_4',\n",
       "       'job_type_5', 'job_type_6', 'job_type_7', 'job_type_8', 'job_type_9'],\n",
       "      dtype='object')"
      ]
     },
     "execution_count": 41,
     "metadata": {},
     "output_type": "execute_result"
    }
   ],
   "source": [
    "# Seleção de variáveis preditoras (Feature Selection)\n",
    "df5=df.drop(\"bank_account\", 1)\n",
    "atributos = df5.columns\n",
    "atributos"
   ]
  },
  {
   "cell_type": "code",
   "execution_count": 42,
   "id": "8497557b",
   "metadata": {},
   "outputs": [],
   "source": [
    "# Variável a ser prevista\n",
    "atrib_prev = ['bank_account']"
   ]
  },
  {
   "cell_type": "code",
   "execution_count": 43,
   "id": "b7d6850a",
   "metadata": {},
   "outputs": [],
   "source": [
    "# Criando objetos\n",
    "X = df[atributos].values\n",
    "Y = df[atrib_prev].values"
   ]
  },
  {
   "cell_type": "code",
   "execution_count": 44,
   "id": "923f3a1e",
   "metadata": {},
   "outputs": [
    {
     "data": {
      "text/plain": [
       "array([[ 1,  1,  3, ...,  0,  0,  0],\n",
       "       [ 1,  0,  5, ...,  0,  1,  0],\n",
       "       [ 0,  1,  5, ...,  0,  0,  0],\n",
       "       ...,\n",
       "       [ 1,  1,  5, ...,  0,  0,  0],\n",
       "       [ 0,  1,  7, ...,  0,  0,  0],\n",
       "       [ 1,  1, 10, ...,  0,  0,  0]], dtype=int64)"
      ]
     },
     "execution_count": 44,
     "metadata": {},
     "output_type": "execute_result"
    }
   ],
   "source": [
    "X"
   ]
  },
  {
   "cell_type": "code",
   "execution_count": 45,
   "id": "3fc68958",
   "metadata": {},
   "outputs": [
    {
     "data": {
      "text/plain": [
       "array([[1],\n",
       "       [0],\n",
       "       [1],\n",
       "       ...,\n",
       "       [0],\n",
       "       [0],\n",
       "       [0]], dtype=int64)"
      ]
     },
     "execution_count": 45,
     "metadata": {},
     "output_type": "execute_result"
    }
   ],
   "source": [
    "Y"
   ]
  },
  {
   "cell_type": "code",
   "execution_count": 46,
   "id": "a744ff7d",
   "metadata": {},
   "outputs": [],
   "source": [
    "# Definindo a taxa de split\n",
    "split_test_size = 0.30"
   ]
  },
  {
   "cell_type": "code",
   "execution_count": 47,
   "id": "45994f14",
   "metadata": {},
   "outputs": [],
   "source": [
    "# Criando dados de treino e de teste\n",
    "X_treino, X_teste, Y_treino, Y_teste = train_test_split(X, Y, test_size = split_test_size, random_state = 42)"
   ]
  },
  {
   "cell_type": "code",
   "execution_count": 48,
   "id": "9c0ddbec",
   "metadata": {},
   "outputs": [
    {
     "name": "stdout",
     "output_type": "stream",
     "text": [
      "70.00% nos dados de treino\n",
      "30.00% nos dados de teste\n"
     ]
    }
   ],
   "source": [
    "# Imprimindo os resultados\n",
    "print(\"{0:0.2f}% nos dados de treino\".format((len(X_treino)/len(df.index)) * 100))\n",
    "print(\"{0:0.2f}% nos dados de teste\".format((len(X_teste)/len(df.index)) * 100))"
   ]
  },
  {
   "cell_type": "code",
   "execution_count": 49,
   "id": "4194d1ef",
   "metadata": {},
   "outputs": [
    {
     "data": {
      "text/plain": [
       "array([[0, 1, 2, ..., 0, 0, 0],\n",
       "       [1, 1, 4, ..., 0, 0, 0],\n",
       "       [0, 1, 4, ..., 0, 0, 0],\n",
       "       ...,\n",
       "       [1, 1, 4, ..., 1, 0, 0],\n",
       "       [0, 1, 2, ..., 0, 0, 0],\n",
       "       [0, 0, 2, ..., 0, 0, 0]], dtype=int64)"
      ]
     },
     "execution_count": 49,
     "metadata": {},
     "output_type": "execute_result"
    }
   ],
   "source": [
    "X_treino"
   ]
  },
  {
   "cell_type": "code",
   "execution_count": 50,
   "id": "ab53dc3a",
   "metadata": {},
   "outputs": [
    {
     "data": {
      "text/plain": [
       "array([[0],\n",
       "       [1],\n",
       "       [0],\n",
       "       ...,\n",
       "       [1],\n",
       "       [1],\n",
       "       [0]], dtype=int64)"
      ]
     },
     "execution_count": 50,
     "metadata": {},
     "output_type": "execute_result"
    }
   ],
   "source": [
    "Y_treino"
   ]
  },
  {
   "cell_type": "code",
   "execution_count": 51,
   "id": "3822a552",
   "metadata": {},
   "outputs": [
    {
     "data": {
      "text/plain": [
       "array([[1, 1, 7, ..., 0, 0, 0],\n",
       "       [1, 1, 3, ..., 0, 0, 0],\n",
       "       [0, 1, 3, ..., 0, 0, 0],\n",
       "       ...,\n",
       "       [0, 0, 2, ..., 0, 0, 0],\n",
       "       [1, 0, 3, ..., 0, 0, 0],\n",
       "       [1, 1, 4, ..., 0, 0, 0]], dtype=int64)"
      ]
     },
     "execution_count": 51,
     "metadata": {},
     "output_type": "execute_result"
    }
   ],
   "source": [
    "X_teste"
   ]
  },
  {
   "cell_type": "code",
   "execution_count": 52,
   "id": "c6d3401c",
   "metadata": {},
   "outputs": [
    {
     "data": {
      "text/plain": [
       "array([[0],\n",
       "       [0],\n",
       "       [0],\n",
       "       ...,\n",
       "       [0],\n",
       "       [0],\n",
       "       [0]], dtype=int64)"
      ]
     },
     "execution_count": 52,
     "metadata": {},
     "output_type": "execute_result"
    }
   ],
   "source": [
    "Y_teste"
   ]
  },
  {
   "cell_type": "markdown",
   "id": "21a0f724",
   "metadata": {},
   "source": [
    "## Verificando o Split"
   ]
  },
  {
   "cell_type": "code",
   "execution_count": 53,
   "id": "2dd321b4",
   "metadata": {},
   "outputs": [
    {
     "name": "stdout",
     "output_type": "stream",
     "text": [
      "Original True : 3312 (14.08%)\n",
      "Original False : 20212 (85.92%)\n",
      "\n",
      "Training True : 2327 (14.13%)\n",
      "Training False : 14139 (85.87%)\n",
      "\n",
      "Test True : 985 (13.96%)\n",
      "Test False : 6073 (86.04%)\n"
     ]
    }
   ],
   "source": [
    "print(\"Original True : {0} ({1:0.2f}%)\".format(len(df.loc[df['bank_account'] == 1]), \n",
    "                                               (len(df.loc[df['bank_account'] ==1])/len(df.index) * 100)))\n",
    "\n",
    "print(\"Original False : {0} ({1:0.2f}%)\".format(len(df.loc[df['bank_account'] == 0]), \n",
    "                                               (len(df.loc[df['bank_account'] == 0])/len(df.index) * 100)))\n",
    "print(\"\")\n",
    "print(\"Training True : {0} ({1:0.2f}%)\".format(len(Y_treino[Y_treino[:] == 1]), \n",
    "                                               (len(Y_treino[Y_treino[:] == 1])/len(Y_treino) * 100)))\n",
    "\n",
    "print(\"Training False : {0} ({1:0.2f}%)\".format(len(Y_treino[Y_treino[:] == 0]), \n",
    "                                               (len(Y_treino[Y_treino[:] == 0])/len(Y_treino) * 100)))\n",
    "print(\"\")\n",
    "print(\"Test True : {0} ({1:0.2f}%)\".format(len(Y_teste[Y_teste[:] == 1]), \n",
    "                                               (len(Y_teste[Y_teste[:] == 1])/len(Y_teste) * 100)))\n",
    "\n",
    "print(\"Test False : {0} ({1:0.2f}%)\".format(len(Y_teste[Y_teste[:] == 0]), \n",
    "                                               (len(Y_teste[Y_teste[:] == 0])/len(Y_teste) * 100)))"
   ]
  },
  {
   "cell_type": "markdown",
   "id": "bb89b863",
   "metadata": {},
   "source": [
    "## Construindo e treinando o modelo"
   ]
  },
  {
   "cell_type": "code",
   "execution_count": 54,
   "id": "816845be",
   "metadata": {},
   "outputs": [],
   "source": [
    "# Utilizando um classificador Naive Bayes\n",
    "from sklearn.naive_bayes import GaussianNB"
   ]
  },
  {
   "cell_type": "code",
   "execution_count": 55,
   "id": "d1ae326a",
   "metadata": {},
   "outputs": [],
   "source": [
    "# Criando o modelo preditivo\n",
    "modelo_v1 = GaussianNB()"
   ]
  },
  {
   "cell_type": "code",
   "execution_count": 56,
   "id": "0edf476d",
   "metadata": {},
   "outputs": [
    {
     "data": {
      "text/plain": [
       "GaussianNB()"
      ]
     },
     "execution_count": 56,
     "metadata": {},
     "output_type": "execute_result"
    }
   ],
   "source": [
    "# Treinando o modelo\n",
    "modelo_v1.fit(X_treino, Y_treino.ravel())"
   ]
  },
  {
   "cell_type": "markdown",
   "id": "1a8ea4de",
   "metadata": {},
   "source": [
    "## Verificando a exatidão no modelo nos dados de treino"
   ]
  },
  {
   "cell_type": "code",
   "execution_count": 57,
   "id": "382a90a7",
   "metadata": {},
   "outputs": [],
   "source": [
    "from sklearn import metrics"
   ]
  },
  {
   "cell_type": "code",
   "execution_count": 58,
   "id": "14b241e9",
   "metadata": {},
   "outputs": [],
   "source": [
    "nb_predict_train = modelo_v1.predict(X_treino)"
   ]
  },
  {
   "cell_type": "code",
   "execution_count": 59,
   "id": "268b1d57",
   "metadata": {},
   "outputs": [
    {
     "name": "stdout",
     "output_type": "stream",
     "text": [
      "Exatidão (Accuracy): 0.8581\n",
      "\n"
     ]
    }
   ],
   "source": [
    "print(\"Exatidão (Accuracy): {0:.4f}\".format(metrics.accuracy_score(Y_treino, nb_predict_train)))\n",
    "print()"
   ]
  },
  {
   "cell_type": "markdown",
   "id": "08a2ce5a",
   "metadata": {},
   "source": [
    "## Verificando a exatidão no modelo nos dados de teste"
   ]
  },
  {
   "cell_type": "code",
   "execution_count": 60,
   "id": "8a685b7a",
   "metadata": {},
   "outputs": [],
   "source": [
    "nb_predict_test = modelo_v1.predict(X_teste)"
   ]
  },
  {
   "cell_type": "code",
   "execution_count": 61,
   "id": "a218b4f0",
   "metadata": {},
   "outputs": [
    {
     "name": "stdout",
     "output_type": "stream",
     "text": [
      "Exatidão (Accuracy): 0.8596\n",
      "\n"
     ]
    }
   ],
   "source": [
    "print(\"Exatidão (Accuracy): {0:.4f}\".format(metrics.accuracy_score(Y_teste, nb_predict_test)))\n",
    "print()"
   ]
  },
  {
   "cell_type": "markdown",
   "id": "31065782",
   "metadata": {},
   "source": [
    "## Métricas"
   ]
  },
  {
   "cell_type": "code",
   "execution_count": 62,
   "id": "9c3c1d4e",
   "metadata": {},
   "outputs": [
    {
     "name": "stdout",
     "output_type": "stream",
     "text": [
      "Confusion Matrix\n",
      "[[ 543  442]\n",
      " [ 549 5524]]\n",
      "\n",
      "Classification Report\n",
      "              precision    recall  f1-score   support\n",
      "\n",
      "           1       0.50      0.55      0.52       985\n",
      "           0       0.93      0.91      0.92      6073\n",
      "\n",
      "    accuracy                           0.86      7058\n",
      "   macro avg       0.71      0.73      0.72      7058\n",
      "weighted avg       0.87      0.86      0.86      7058\n",
      "\n"
     ]
    }
   ],
   "source": [
    "# Criando uma Confusion Matrix\n",
    "print(\"Confusion Matrix\")\n",
    "\n",
    "print(\"{0}\".format(metrics.confusion_matrix(Y_teste, nb_predict_test, labels = [1, 0])))\n",
    "print(\"\")\n",
    "\n",
    "print(\"Classification Report\")\n",
    "print(metrics.classification_report(Y_teste, nb_predict_test, labels = [1, 0]))"
   ]
  },
  {
   "cell_type": "markdown",
   "id": "19abae80",
   "metadata": {},
   "source": [
    "# Otimizando o Modelo com RandomForest"
   ]
  },
  {
   "cell_type": "code",
   "execution_count": 63,
   "id": "d6942850",
   "metadata": {},
   "outputs": [],
   "source": [
    "from sklearn.ensemble import RandomForestClassifier"
   ]
  },
  {
   "cell_type": "code",
   "execution_count": 64,
   "id": "cc6b82b3",
   "metadata": {},
   "outputs": [
    {
     "data": {
      "text/plain": [
       "RandomForestClassifier(random_state=42)"
      ]
     },
     "execution_count": 64,
     "metadata": {},
     "output_type": "execute_result"
    }
   ],
   "source": [
    "modelo_v2 = RandomForestClassifier(random_state = 42)\n",
    "modelo_v2.fit(X_treino, Y_treino.ravel())"
   ]
  },
  {
   "cell_type": "code",
   "execution_count": 65,
   "id": "5000ef5f",
   "metadata": {},
   "outputs": [
    {
     "name": "stdout",
     "output_type": "stream",
     "text": [
      "Exatidão (Accuracy): 0.9818\n"
     ]
    }
   ],
   "source": [
    "# Verificando os dados de treino\n",
    "rf_predict_train = modelo_v2.predict(X_treino)\n",
    "print(\"Exatidão (Accuracy): {0:.4f}\".format(metrics.accuracy_score(Y_treino, rf_predict_train)))"
   ]
  },
  {
   "cell_type": "code",
   "execution_count": 66,
   "id": "f33ede43",
   "metadata": {},
   "outputs": [
    {
     "name": "stdout",
     "output_type": "stream",
     "text": [
      "Exatidão (Accuracy): 0.8650\n",
      "\n"
     ]
    }
   ],
   "source": [
    "# Verificando nos dados de teste\n",
    "rf_predict_test = modelo_v2.predict(X_teste)\n",
    "print(\"Exatidão (Accuracy): {0:.4f}\".format(metrics.accuracy_score(Y_teste, rf_predict_test)))\n",
    "print()"
   ]
  },
  {
   "cell_type": "code",
   "execution_count": 67,
   "id": "e0cc0ea0",
   "metadata": {},
   "outputs": [
    {
     "name": "stdout",
     "output_type": "stream",
     "text": [
      "Confusion Matrix\n",
      "[[ 395  590]\n",
      " [ 363 5710]]\n",
      "\n",
      "Classification Report\n",
      "              precision    recall  f1-score   support\n",
      "\n",
      "           1       0.52      0.40      0.45       985\n",
      "           0       0.91      0.94      0.92      6073\n",
      "\n",
      "    accuracy                           0.86      7058\n",
      "   macro avg       0.71      0.67      0.69      7058\n",
      "weighted avg       0.85      0.86      0.86      7058\n",
      "\n"
     ]
    }
   ],
   "source": [
    "print(\"Confusion Matrix\")\n",
    "\n",
    "print(\"{0}\".format(metrics.confusion_matrix(Y_teste, rf_predict_test, labels = [1, 0])))\n",
    "print(\"\")\n",
    "\n",
    "print(\"Classification Report\")\n",
    "print(metrics.classification_report(Y_teste, rf_predict_test, labels = [1, 0]))"
   ]
  },
  {
   "cell_type": "markdown",
   "id": "e3e053b1",
   "metadata": {},
   "source": [
    "## Regressão Logística"
   ]
  },
  {
   "cell_type": "code",
   "execution_count": 68,
   "id": "854c1f1c",
   "metadata": {},
   "outputs": [],
   "source": [
    "from sklearn.linear_model import LogisticRegression"
   ]
  },
  {
   "cell_type": "code",
   "execution_count": 69,
   "id": "9b025445",
   "metadata": {},
   "outputs": [],
   "source": [
    "# Terceira versão do modelo usando Regressão Logística\n",
    "modelo_v3 = LogisticRegression(C = 0.7, random_state = 42, max_iter = 1000)\n",
    "modelo_v3.fit(X_treino, Y_treino.ravel())\n",
    "lr_predict_test = modelo_v3.predict(X_teste)"
   ]
  },
  {
   "cell_type": "code",
   "execution_count": 70,
   "id": "ef1e36b9",
   "metadata": {},
   "outputs": [
    {
     "name": "stdout",
     "output_type": "stream",
     "text": [
      "Exatidão (Accuracy): 0.8851\n",
      "\n",
      "Classification Report\n",
      "              precision    recall  f1-score   support\n",
      "\n",
      "           1       0.67      0.35      0.46       985\n",
      "           0       0.90      0.97      0.94      6073\n",
      "\n",
      "    accuracy                           0.89      7058\n",
      "   macro avg       0.79      0.66      0.70      7058\n",
      "weighted avg       0.87      0.89      0.87      7058\n",
      "\n"
     ]
    }
   ],
   "source": [
    "print(\"Exatidão (Accuracy): {0:.4f}\".format(metrics.accuracy_score(Y_teste, lr_predict_test)))\n",
    "print()\n",
    "print(\"Classification Report\")\n",
    "print(metrics.classification_report(Y_teste, lr_predict_test, labels = [1, 0]))"
   ]
  },
  {
   "cell_type": "code",
   "execution_count": 71,
   "id": "2c6fa8fa",
   "metadata": {},
   "outputs": [],
   "source": [
    "### Resumindo\n",
    "## Exatidão nos dados de teste\n",
    "\n",
    "# Modelo usando algoritmo Naive Bayes         = 0.8596\n",
    "# Modelo usando algoritmo Random Forest       = 0.8661\n",
    "# Modelo usando algoritmo Regressão Logística = 0.8852"
   ]
  },
  {
   "cell_type": "markdown",
   "id": "2486b538",
   "metadata": {},
   "source": [
    "## Fazendo Previsões Com o Modelo Treinado"
   ]
  },
  {
   "cell_type": "code",
   "execution_count": 72,
   "id": "e3b45572",
   "metadata": {},
   "outputs": [],
   "source": [
    "import pickle"
   ]
  },
  {
   "cell_type": "code",
   "execution_count": 73,
   "id": "59ea1544",
   "metadata": {},
   "outputs": [],
   "source": [
    "# Salvando o modelo para usar mais tarde\n",
    "filename = 'modelo_treinado_v3.sav'\n",
    "pickle.dump(modelo_v3, open(filename, 'wb'))"
   ]
  },
  {
   "cell_type": "code",
   "execution_count": 74,
   "id": "b86506b7",
   "metadata": {},
   "outputs": [
    {
     "data": {
      "text/plain": [
       "array([[1, 1, 7, ..., 0, 0, 0],\n",
       "       [1, 1, 3, ..., 0, 0, 0],\n",
       "       [0, 1, 3, ..., 0, 0, 0],\n",
       "       ...,\n",
       "       [0, 0, 2, ..., 0, 0, 0],\n",
       "       [1, 0, 3, ..., 0, 0, 0],\n",
       "       [1, 1, 4, ..., 0, 0, 0]], dtype=int64)"
      ]
     },
     "execution_count": 74,
     "metadata": {},
     "output_type": "execute_result"
    }
   ],
   "source": [
    "X_teste"
   ]
  },
  {
   "cell_type": "code",
   "execution_count": 75,
   "id": "43bc9ea0",
   "metadata": {},
   "outputs": [
    {
     "name": "stdout",
     "output_type": "stream",
     "text": [
      "[1]\n",
      "[0]\n",
      "[1]\n",
      "[0]\n"
     ]
    }
   ],
   "source": [
    "# Carregando o modelo e fazendo previsão com novos conjuntos de dados \n",
    "# (X_teste, Y_teste devem ser novos conjuntos de dados preparados com o procedimento de limpeza e transformação adequados)\n",
    "loaded_model = pickle.load(open(filename, 'rb'))\n",
    "resultado1 = loaded_model.predict(X_teste[67].reshape(1, -1))\n",
    "resultado2 = loaded_model.predict(X_teste[8].reshape(1, -1))\n",
    "resultado3 = loaded_model.predict(X_teste[28].reshape(1, -1))\n",
    "resultado4 = loaded_model.predict(X_teste[69].reshape(1, -1))\n",
    "print(resultado1)\n",
    "print(resultado2)\n",
    "print(resultado3)\n",
    "print(resultado4)"
   ]
  },
  {
   "cell_type": "code",
   "execution_count": 76,
   "id": "7500c15b",
   "metadata": {},
   "outputs": [
    {
     "data": {
      "text/plain": [
       "array([1], dtype=int64)"
      ]
     },
     "execution_count": 76,
     "metadata": {},
     "output_type": "execute_result"
    }
   ],
   "source": [
    "Y_teste[67]"
   ]
  },
  {
   "cell_type": "code",
   "execution_count": 77,
   "id": "0b4453f5",
   "metadata": {},
   "outputs": [
    {
     "data": {
      "text/plain": [
       "array([1], dtype=int64)"
      ]
     },
     "execution_count": 77,
     "metadata": {},
     "output_type": "execute_result"
    }
   ],
   "source": [
    "Y_teste[8]"
   ]
  },
  {
   "cell_type": "code",
   "execution_count": 78,
   "id": "c9b6d057",
   "metadata": {},
   "outputs": [
    {
     "data": {
      "text/plain": [
       "array([1], dtype=int64)"
      ]
     },
     "execution_count": 78,
     "metadata": {},
     "output_type": "execute_result"
    }
   ],
   "source": [
    "Y_teste[28]"
   ]
  },
  {
   "cell_type": "code",
   "execution_count": 79,
   "id": "81d60fc3",
   "metadata": {},
   "outputs": [
    {
     "data": {
      "text/plain": [
       "array([0], dtype=int64)"
      ]
     },
     "execution_count": 79,
     "metadata": {},
     "output_type": "execute_result"
    }
   ],
   "source": [
    "Y_teste[69]"
   ]
  }
 ],
 "metadata": {
  "kernelspec": {
   "display_name": "Python 3",
   "language": "python",
   "name": "python3"
  },
  "language_info": {
   "codemirror_mode": {
    "name": "ipython",
    "version": 3
   },
   "file_extension": ".py",
   "mimetype": "text/x-python",
   "name": "python",
   "nbconvert_exporter": "python",
   "pygments_lexer": "ipython3",
   "version": "3.8.8"
  }
 },
 "nbformat": 4,
 "nbformat_minor": 5
}
